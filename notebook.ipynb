{
 "cells": [
  {
   "cell_type": "code",
   "execution_count": 4,
   "metadata": {},
   "outputs": [],
   "source": [
    "import pandas as pd\n",
    "import numpy as np "
   ]
  },
  {
   "cell_type": "code",
   "execution_count": 5,
   "metadata": {},
   "outputs": [],
   "source": [
    "df = pd.read_csv('CO2 Emissions_Canada.csv')\n"
   ]
  },
  {
   "cell_type": "code",
   "execution_count": 6,
   "metadata": {},
   "outputs": [
    {
     "data": {
      "text/html": [
       "<div>\n",
       "<style scoped>\n",
       "    .dataframe tbody tr th:only-of-type {\n",
       "        vertical-align: middle;\n",
       "    }\n",
       "\n",
       "    .dataframe tbody tr th {\n",
       "        vertical-align: top;\n",
       "    }\n",
       "\n",
       "    .dataframe thead th {\n",
       "        text-align: right;\n",
       "    }\n",
       "</style>\n",
       "<table border=\"1\" class=\"dataframe\">\n",
       "  <thead>\n",
       "    <tr style=\"text-align: right;\">\n",
       "      <th></th>\n",
       "      <th>Make</th>\n",
       "      <th>Model</th>\n",
       "      <th>Vehicle Class</th>\n",
       "      <th>Engine Size(L)</th>\n",
       "      <th>Cylinders</th>\n",
       "      <th>Transmission</th>\n",
       "      <th>Fuel Type</th>\n",
       "      <th>Fuel Consumption City (L/100 km)</th>\n",
       "      <th>Fuel Consumption Hwy (L/100 km)</th>\n",
       "      <th>Fuel Consumption Comb (L/100 km)</th>\n",
       "      <th>Fuel Consumption Comb (mpg)</th>\n",
       "      <th>CO2 Emissions(g/km)</th>\n",
       "    </tr>\n",
       "  </thead>\n",
       "  <tbody>\n",
       "    <tr>\n",
       "      <th>0</th>\n",
       "      <td>ACURA</td>\n",
       "      <td>ILX</td>\n",
       "      <td>COMPACT</td>\n",
       "      <td>2.0</td>\n",
       "      <td>4</td>\n",
       "      <td>AS5</td>\n",
       "      <td>Z</td>\n",
       "      <td>9.9</td>\n",
       "      <td>6.7</td>\n",
       "      <td>8.5</td>\n",
       "      <td>33</td>\n",
       "      <td>196</td>\n",
       "    </tr>\n",
       "    <tr>\n",
       "      <th>1</th>\n",
       "      <td>ACURA</td>\n",
       "      <td>ILX</td>\n",
       "      <td>COMPACT</td>\n",
       "      <td>2.4</td>\n",
       "      <td>4</td>\n",
       "      <td>M6</td>\n",
       "      <td>Z</td>\n",
       "      <td>11.2</td>\n",
       "      <td>7.7</td>\n",
       "      <td>9.6</td>\n",
       "      <td>29</td>\n",
       "      <td>221</td>\n",
       "    </tr>\n",
       "    <tr>\n",
       "      <th>2</th>\n",
       "      <td>ACURA</td>\n",
       "      <td>ILX HYBRID</td>\n",
       "      <td>COMPACT</td>\n",
       "      <td>1.5</td>\n",
       "      <td>4</td>\n",
       "      <td>AV7</td>\n",
       "      <td>Z</td>\n",
       "      <td>6.0</td>\n",
       "      <td>5.8</td>\n",
       "      <td>5.9</td>\n",
       "      <td>48</td>\n",
       "      <td>136</td>\n",
       "    </tr>\n",
       "    <tr>\n",
       "      <th>3</th>\n",
       "      <td>ACURA</td>\n",
       "      <td>MDX 4WD</td>\n",
       "      <td>SUV - SMALL</td>\n",
       "      <td>3.5</td>\n",
       "      <td>6</td>\n",
       "      <td>AS6</td>\n",
       "      <td>Z</td>\n",
       "      <td>12.7</td>\n",
       "      <td>9.1</td>\n",
       "      <td>11.1</td>\n",
       "      <td>25</td>\n",
       "      <td>255</td>\n",
       "    </tr>\n",
       "    <tr>\n",
       "      <th>4</th>\n",
       "      <td>ACURA</td>\n",
       "      <td>RDX AWD</td>\n",
       "      <td>SUV - SMALL</td>\n",
       "      <td>3.5</td>\n",
       "      <td>6</td>\n",
       "      <td>AS6</td>\n",
       "      <td>Z</td>\n",
       "      <td>12.1</td>\n",
       "      <td>8.7</td>\n",
       "      <td>10.6</td>\n",
       "      <td>27</td>\n",
       "      <td>244</td>\n",
       "    </tr>\n",
       "  </tbody>\n",
       "</table>\n",
       "</div>"
      ],
      "text/plain": [
       "    Make       Model Vehicle Class  Engine Size(L)  Cylinders Transmission  \\\n",
       "0  ACURA         ILX       COMPACT             2.0          4          AS5   \n",
       "1  ACURA         ILX       COMPACT             2.4          4           M6   \n",
       "2  ACURA  ILX HYBRID       COMPACT             1.5          4          AV7   \n",
       "3  ACURA     MDX 4WD   SUV - SMALL             3.5          6          AS6   \n",
       "4  ACURA     RDX AWD   SUV - SMALL             3.5          6          AS6   \n",
       "\n",
       "  Fuel Type  Fuel Consumption City (L/100 km)  \\\n",
       "0         Z                               9.9   \n",
       "1         Z                              11.2   \n",
       "2         Z                               6.0   \n",
       "3         Z                              12.7   \n",
       "4         Z                              12.1   \n",
       "\n",
       "   Fuel Consumption Hwy (L/100 km)  Fuel Consumption Comb (L/100 km)  \\\n",
       "0                              6.7                               8.5   \n",
       "1                              7.7                               9.6   \n",
       "2                              5.8                               5.9   \n",
       "3                              9.1                              11.1   \n",
       "4                              8.7                              10.6   \n",
       "\n",
       "   Fuel Consumption Comb (mpg)  CO2 Emissions(g/km)  \n",
       "0                           33                  196  \n",
       "1                           29                  221  \n",
       "2                           48                  136  \n",
       "3                           25                  255  \n",
       "4                           27                  244  "
      ]
     },
     "execution_count": 6,
     "metadata": {},
     "output_type": "execute_result"
    }
   ],
   "source": [
    "df.head()"
   ]
  },
  {
   "cell_type": "code",
   "execution_count": 7,
   "metadata": {},
   "outputs": [
    {
     "data": {
      "text/html": [
       "<div>\n",
       "<style scoped>\n",
       "    .dataframe tbody tr th:only-of-type {\n",
       "        vertical-align: middle;\n",
       "    }\n",
       "\n",
       "    .dataframe tbody tr th {\n",
       "        vertical-align: top;\n",
       "    }\n",
       "\n",
       "    .dataframe thead th {\n",
       "        text-align: right;\n",
       "    }\n",
       "</style>\n",
       "<table border=\"1\" class=\"dataframe\">\n",
       "  <thead>\n",
       "    <tr style=\"text-align: right;\">\n",
       "      <th></th>\n",
       "      <th>make</th>\n",
       "      <th>model</th>\n",
       "      <th>vehicle_class</th>\n",
       "      <th>engine_size(l)</th>\n",
       "      <th>cylinders</th>\n",
       "      <th>transmission</th>\n",
       "      <th>fuel_type</th>\n",
       "      <th>fuel_consumption_city_(l/100_km)</th>\n",
       "      <th>fuel_consumption_hwy_(l/100_km)</th>\n",
       "      <th>fuel_consumption_comb_(l/100_km)</th>\n",
       "      <th>fuel_consumption_comb_(mpg)</th>\n",
       "      <th>co2_emissions(g/km)</th>\n",
       "    </tr>\n",
       "  </thead>\n",
       "  <tbody>\n",
       "    <tr>\n",
       "      <th>0</th>\n",
       "      <td>ACURA</td>\n",
       "      <td>ILX</td>\n",
       "      <td>COMPACT</td>\n",
       "      <td>2.0</td>\n",
       "      <td>4</td>\n",
       "      <td>AS5</td>\n",
       "      <td>Z</td>\n",
       "      <td>9.9</td>\n",
       "      <td>6.7</td>\n",
       "      <td>8.5</td>\n",
       "      <td>33</td>\n",
       "      <td>196</td>\n",
       "    </tr>\n",
       "    <tr>\n",
       "      <th>1</th>\n",
       "      <td>ACURA</td>\n",
       "      <td>ILX</td>\n",
       "      <td>COMPACT</td>\n",
       "      <td>2.4</td>\n",
       "      <td>4</td>\n",
       "      <td>M6</td>\n",
       "      <td>Z</td>\n",
       "      <td>11.2</td>\n",
       "      <td>7.7</td>\n",
       "      <td>9.6</td>\n",
       "      <td>29</td>\n",
       "      <td>221</td>\n",
       "    </tr>\n",
       "    <tr>\n",
       "      <th>2</th>\n",
       "      <td>ACURA</td>\n",
       "      <td>ILX HYBRID</td>\n",
       "      <td>COMPACT</td>\n",
       "      <td>1.5</td>\n",
       "      <td>4</td>\n",
       "      <td>AV7</td>\n",
       "      <td>Z</td>\n",
       "      <td>6.0</td>\n",
       "      <td>5.8</td>\n",
       "      <td>5.9</td>\n",
       "      <td>48</td>\n",
       "      <td>136</td>\n",
       "    </tr>\n",
       "    <tr>\n",
       "      <th>3</th>\n",
       "      <td>ACURA</td>\n",
       "      <td>MDX 4WD</td>\n",
       "      <td>SUV - SMALL</td>\n",
       "      <td>3.5</td>\n",
       "      <td>6</td>\n",
       "      <td>AS6</td>\n",
       "      <td>Z</td>\n",
       "      <td>12.7</td>\n",
       "      <td>9.1</td>\n",
       "      <td>11.1</td>\n",
       "      <td>25</td>\n",
       "      <td>255</td>\n",
       "    </tr>\n",
       "    <tr>\n",
       "      <th>4</th>\n",
       "      <td>ACURA</td>\n",
       "      <td>RDX AWD</td>\n",
       "      <td>SUV - SMALL</td>\n",
       "      <td>3.5</td>\n",
       "      <td>6</td>\n",
       "      <td>AS6</td>\n",
       "      <td>Z</td>\n",
       "      <td>12.1</td>\n",
       "      <td>8.7</td>\n",
       "      <td>10.6</td>\n",
       "      <td>27</td>\n",
       "      <td>244</td>\n",
       "    </tr>\n",
       "  </tbody>\n",
       "</table>\n",
       "</div>"
      ],
      "text/plain": [
       "    make       model vehicle_class  engine_size(l)  cylinders transmission  \\\n",
       "0  ACURA         ILX       COMPACT             2.0          4          AS5   \n",
       "1  ACURA         ILX       COMPACT             2.4          4           M6   \n",
       "2  ACURA  ILX HYBRID       COMPACT             1.5          4          AV7   \n",
       "3  ACURA     MDX 4WD   SUV - SMALL             3.5          6          AS6   \n",
       "4  ACURA     RDX AWD   SUV - SMALL             3.5          6          AS6   \n",
       "\n",
       "  fuel_type  fuel_consumption_city_(l/100_km)  \\\n",
       "0         Z                               9.9   \n",
       "1         Z                              11.2   \n",
       "2         Z                               6.0   \n",
       "3         Z                              12.7   \n",
       "4         Z                              12.1   \n",
       "\n",
       "   fuel_consumption_hwy_(l/100_km)  fuel_consumption_comb_(l/100_km)  \\\n",
       "0                              6.7                               8.5   \n",
       "1                              7.7                               9.6   \n",
       "2                              5.8                               5.9   \n",
       "3                              9.1                              11.1   \n",
       "4                              8.7                              10.6   \n",
       "\n",
       "   fuel_consumption_comb_(mpg)  co2_emissions(g/km)  \n",
       "0                           33                  196  \n",
       "1                           29                  221  \n",
       "2                           48                  136  \n",
       "3                           25                  255  \n",
       "4                           27                  244  "
      ]
     },
     "execution_count": 7,
     "metadata": {},
     "output_type": "execute_result"
    }
   ],
   "source": [
    "df.columns = df.columns.str.lower().str.replace(' ', '_')\n",
    "df.head()"
   ]
  },
  {
   "cell_type": "code",
   "execution_count": 8,
   "metadata": {},
   "outputs": [],
   "source": [
    "cat = list(df.dtypes[df.dtypes == 'object'].index)\n",
    "\n",
    "for c in cat:\n",
    "    df[c] = df[c].str.lower().str.replace(' ', '_')\n",
    "\n"
   ]
  },
  {
   "cell_type": "code",
   "execution_count": 9,
   "metadata": {},
   "outputs": [],
   "source": [
    "import matplotlib.pyplot as plt\n",
    "import seaborn as sns"
   ]
  },
  {
   "cell_type": "code",
   "execution_count": 10,
   "metadata": {},
   "outputs": [
    {
     "data": {
      "text/plain": [
       "make                                  42\n",
       "model                               1596\n",
       "vehicle_class                         16\n",
       "engine_size(l)                        51\n",
       "cylinders                              8\n",
       "transmission                          27\n",
       "fuel_type                              5\n",
       "fuel_consumption_city_(l/100_km)     211\n",
       "fuel_consumption_hwy_(l/100_km)      143\n",
       "fuel_consumption_comb_(l/100_km)     181\n",
       "fuel_consumption_comb_(mpg)           54\n",
       "co2_emissions(g/km)                  331\n",
       "dtype: int64"
      ]
     },
     "execution_count": 10,
     "metadata": {},
     "output_type": "execute_result"
    }
   ],
   "source": [
    "df.nunique()"
   ]
  },
  {
   "cell_type": "code",
   "execution_count": 11,
   "metadata": {},
   "outputs": [
    {
     "data": {
      "text/plain": [
       "make                                 object\n",
       "model                                object\n",
       "vehicle_class                        object\n",
       "engine_size(l)                      float64\n",
       "cylinders                             int64\n",
       "transmission                         object\n",
       "fuel_type                            object\n",
       "fuel_consumption_city_(l/100_km)    float64\n",
       "fuel_consumption_hwy_(l/100_km)     float64\n",
       "fuel_consumption_comb_(l/100_km)    float64\n",
       "fuel_consumption_comb_(mpg)           int64\n",
       "co2_emissions(g/km)                   int64\n",
       "dtype: object"
      ]
     },
     "execution_count": 11,
     "metadata": {},
     "output_type": "execute_result"
    }
   ],
   "source": [
    "df.dtypes"
   ]
  },
  {
   "cell_type": "code",
   "execution_count": 12,
   "metadata": {},
   "outputs": [
    {
     "data": {
      "text/plain": [
       "x    3637\n",
       "z    3202\n",
       "e     370\n",
       "d     175\n",
       "n       1\n",
       "Name: fuel_type, dtype: int64"
      ]
     },
     "execution_count": 12,
     "metadata": {},
     "output_type": "execute_result"
    }
   ],
   "source": [
    "df.fuel_type.value_counts()"
   ]
  },
  {
   "cell_type": "code",
   "execution_count": 13,
   "metadata": {},
   "outputs": [],
   "source": [
    "df = df.rename(columns={'engine_size(l)': 'engine_size',\n",
    "               'fuel_consumption_city_(l/100_km)': 'fuel_consumption_city',\n",
    "                        'fuel_consumption_hwy_(l/100_km)': 'fuel_consumption_hwy',\n",
    "                        'fuel_consumption_comb_(l/100_km)': 'fuel_consumption_comb',\n",
    "                        'fuel_consumption_comb_(mpg)': 'fuel_consumption_comb_mpg',\n",
    "                        'co2_emissions(g/km)': 'co2_emissions'})\n"
   ]
  },
  {
   "cell_type": "code",
   "execution_count": 14,
   "metadata": {},
   "outputs": [
    {
     "data": {
      "text/html": [
       "<div>\n",
       "<style scoped>\n",
       "    .dataframe tbody tr th:only-of-type {\n",
       "        vertical-align: middle;\n",
       "    }\n",
       "\n",
       "    .dataframe tbody tr th {\n",
       "        vertical-align: top;\n",
       "    }\n",
       "\n",
       "    .dataframe thead th {\n",
       "        text-align: right;\n",
       "    }\n",
       "</style>\n",
       "<table border=\"1\" class=\"dataframe\">\n",
       "  <thead>\n",
       "    <tr style=\"text-align: right;\">\n",
       "      <th></th>\n",
       "      <th>make</th>\n",
       "      <th>model</th>\n",
       "      <th>vehicle_class</th>\n",
       "      <th>engine_size</th>\n",
       "      <th>cylinders</th>\n",
       "      <th>transmission</th>\n",
       "      <th>fuel_type</th>\n",
       "      <th>fuel_consumption_city</th>\n",
       "      <th>fuel_consumption_hwy</th>\n",
       "      <th>fuel_consumption_comb</th>\n",
       "      <th>fuel_consumption_comb_mpg</th>\n",
       "      <th>co2_emissions</th>\n",
       "    </tr>\n",
       "  </thead>\n",
       "  <tbody>\n",
       "    <tr>\n",
       "      <th>0</th>\n",
       "      <td>acura</td>\n",
       "      <td>ilx</td>\n",
       "      <td>compact</td>\n",
       "      <td>2.0</td>\n",
       "      <td>4</td>\n",
       "      <td>as5</td>\n",
       "      <td>z</td>\n",
       "      <td>9.9</td>\n",
       "      <td>6.7</td>\n",
       "      <td>8.5</td>\n",
       "      <td>33</td>\n",
       "      <td>196</td>\n",
       "    </tr>\n",
       "    <tr>\n",
       "      <th>1</th>\n",
       "      <td>acura</td>\n",
       "      <td>ilx</td>\n",
       "      <td>compact</td>\n",
       "      <td>2.4</td>\n",
       "      <td>4</td>\n",
       "      <td>m6</td>\n",
       "      <td>z</td>\n",
       "      <td>11.2</td>\n",
       "      <td>7.7</td>\n",
       "      <td>9.6</td>\n",
       "      <td>29</td>\n",
       "      <td>221</td>\n",
       "    </tr>\n",
       "    <tr>\n",
       "      <th>2</th>\n",
       "      <td>acura</td>\n",
       "      <td>ilx_hybrid</td>\n",
       "      <td>compact</td>\n",
       "      <td>1.5</td>\n",
       "      <td>4</td>\n",
       "      <td>av7</td>\n",
       "      <td>z</td>\n",
       "      <td>6.0</td>\n",
       "      <td>5.8</td>\n",
       "      <td>5.9</td>\n",
       "      <td>48</td>\n",
       "      <td>136</td>\n",
       "    </tr>\n",
       "    <tr>\n",
       "      <th>3</th>\n",
       "      <td>acura</td>\n",
       "      <td>mdx_4wd</td>\n",
       "      <td>suv_-_small</td>\n",
       "      <td>3.5</td>\n",
       "      <td>6</td>\n",
       "      <td>as6</td>\n",
       "      <td>z</td>\n",
       "      <td>12.7</td>\n",
       "      <td>9.1</td>\n",
       "      <td>11.1</td>\n",
       "      <td>25</td>\n",
       "      <td>255</td>\n",
       "    </tr>\n",
       "    <tr>\n",
       "      <th>4</th>\n",
       "      <td>acura</td>\n",
       "      <td>rdx_awd</td>\n",
       "      <td>suv_-_small</td>\n",
       "      <td>3.5</td>\n",
       "      <td>6</td>\n",
       "      <td>as6</td>\n",
       "      <td>z</td>\n",
       "      <td>12.1</td>\n",
       "      <td>8.7</td>\n",
       "      <td>10.6</td>\n",
       "      <td>27</td>\n",
       "      <td>244</td>\n",
       "    </tr>\n",
       "  </tbody>\n",
       "</table>\n",
       "</div>"
      ],
      "text/plain": [
       "    make       model vehicle_class  engine_size  cylinders transmission  \\\n",
       "0  acura         ilx       compact          2.0          4          as5   \n",
       "1  acura         ilx       compact          2.4          4           m6   \n",
       "2  acura  ilx_hybrid       compact          1.5          4          av7   \n",
       "3  acura     mdx_4wd   suv_-_small          3.5          6          as6   \n",
       "4  acura     rdx_awd   suv_-_small          3.5          6          as6   \n",
       "\n",
       "  fuel_type  fuel_consumption_city  fuel_consumption_hwy  \\\n",
       "0         z                    9.9                   6.7   \n",
       "1         z                   11.2                   7.7   \n",
       "2         z                    6.0                   5.8   \n",
       "3         z                   12.7                   9.1   \n",
       "4         z                   12.1                   8.7   \n",
       "\n",
       "   fuel_consumption_comb  fuel_consumption_comb_mpg  co2_emissions  \n",
       "0                    8.5                         33            196  \n",
       "1                    9.6                         29            221  \n",
       "2                    5.9                         48            136  \n",
       "3                   11.1                         25            255  \n",
       "4                   10.6                         27            244  "
      ]
     },
     "execution_count": 14,
     "metadata": {},
     "output_type": "execute_result"
    }
   ],
   "source": [
    "df.head()"
   ]
  },
  {
   "cell_type": "code",
   "execution_count": 15,
   "metadata": {},
   "outputs": [
    {
     "data": {
      "text/plain": [
       "<AxesSubplot:xlabel='co2_emissions', ylabel='Count'>"
      ]
     },
     "execution_count": 15,
     "metadata": {},
     "output_type": "execute_result"
    },
    {
     "data": {
      "image/png": "[encoded data removed]",
      "text/plain": [
       "<Figure size 432x288 with 1 Axes>"
      ]
     },
     "metadata": {
      "needs_background": "light"
     },
     "output_type": "display_data"
    }
   ],
   "source": [
    "sns.histplot(df.co2_emissions, bins=100)"
   ]
  },
  {
   "cell_type": "code",
   "execution_count": 16,
   "metadata": {},
   "outputs": [
    {
     "data": {
      "text/plain": [
       "<AxesSubplot:xlabel='co2_emissions', ylabel='Count'>"
      ]
     },
     "execution_count": 16,
     "metadata": {},
     "output_type": "execute_result"
    },
    {
     "data": {
      "image/png": "[encoded data removed]",
      "text/plain": [
       "<Figure size 432x288 with 1 Axes>"
      ]
     },
     "metadata": {
      "needs_background": "light"
     },
     "output_type": "display_data"
    }
   ],
   "source": [
    "sns.histplot(np.log(df.co2_emissions), bins = 100)"
   ]
  },
  {
   "cell_type": "code",
   "execution_count": 17,
   "metadata": {},
   "outputs": [],
   "source": [
    "df['log_co2'] = np.log(df.co2_emissions)\n",
    "del df['co2_emissions']"
   ]
  },
  {
   "cell_type": "markdown",
   "metadata": {},
   "source": [
    "# Setting Work asda"
   ]
  },
  {
   "cell_type": "code",
   "execution_count": 18,
   "metadata": {},
   "outputs": [],
   "source": [
    "from sklearn.model_selection import train_test_split"
   ]
  },
  {
   "cell_type": "code",
   "execution_count": 19,
   "metadata": {},
   "outputs": [
    {
     "data": {
      "text/plain": [
       "(4431, 1477, 1477)"
      ]
     },
     "execution_count": 19,
     "metadata": {},
     "output_type": "execute_result"
    }
   ],
   "source": [
    "df_full_train, df_test = train_test_split(df, test_size = 0.2, random_state=1)\n",
    "df_train, df_val = train_test_split(df_full_train, test_size=0.25, random_state=1)\n",
    "len(df_train), len(df_test), len(df_val)"
   ]
  },
  {
   "cell_type": "code",
   "execution_count": 20,
   "metadata": {},
   "outputs": [],
   "source": [
    "df_full_train = df_full_train.reset_index(drop=True)\n",
    "df_train = df_train.reset_index(drop=True)\n",
    "df_val = df_val.reset_index(drop=True)\n",
    "df_test = df_test.reset_index(drop=True)"
   ]
  },
  {
   "cell_type": "markdown",
   "metadata": {},
   "source": [
    "# 1.Exploratory Data Analysis"
   ]
  },
  {
   "cell_type": "markdown",
   "metadata": {},
   "source": [
    "### 1.1 Checking NA"
   ]
  },
  {
   "cell_type": "code",
   "execution_count": 21,
   "metadata": {},
   "outputs": [
    {
     "data": {
      "text/plain": [
       "make                         0\n",
       "model                        0\n",
       "vehicle_class                0\n",
       "engine_size                  0\n",
       "cylinders                    0\n",
       "transmission                 0\n",
       "fuel_type                    0\n",
       "fuel_consumption_city        0\n",
       "fuel_consumption_hwy         0\n",
       "fuel_consumption_comb        0\n",
       "fuel_consumption_comb_mpg    0\n",
       "log_co2                      0\n",
       "dtype: int64"
      ]
     },
     "execution_count": 21,
     "metadata": {},
     "output_type": "execute_result"
    }
   ],
   "source": [
    "df.isna().sum()"
   ]
  },
  {
   "cell_type": "code",
   "execution_count": 22,
   "metadata": {},
   "outputs": [
    {
     "data": {
      "text/html": [
       "<div>\n",
       "<style scoped>\n",
       "    .dataframe tbody tr th:only-of-type {\n",
       "        vertical-align: middle;\n",
       "    }\n",
       "\n",
       "    .dataframe tbody tr th {\n",
       "        vertical-align: top;\n",
       "    }\n",
       "\n",
       "    .dataframe thead th {\n",
       "        text-align: right;\n",
       "    }\n",
       "</style>\n",
       "<table border=\"1\" class=\"dataframe\">\n",
       "  <thead>\n",
       "    <tr style=\"text-align: right;\">\n",
       "      <th></th>\n",
       "      <th>make</th>\n",
       "      <th>model</th>\n",
       "      <th>vehicle_class</th>\n",
       "      <th>engine_size</th>\n",
       "      <th>cylinders</th>\n",
       "      <th>transmission</th>\n",
       "      <th>fuel_type</th>\n",
       "      <th>fuel_consumption_city</th>\n",
       "      <th>fuel_consumption_hwy</th>\n",
       "      <th>fuel_consumption_comb</th>\n",
       "      <th>fuel_consumption_comb_mpg</th>\n",
       "      <th>log_co2</th>\n",
       "    </tr>\n",
       "  </thead>\n",
       "  <tbody>\n",
       "    <tr>\n",
       "      <th>0</th>\n",
       "      <td>acura</td>\n",
       "      <td>ilx</td>\n",
       "      <td>compact</td>\n",
       "      <td>2.0</td>\n",
       "      <td>4</td>\n",
       "      <td>as5</td>\n",
       "      <td>z</td>\n",
       "      <td>9.9</td>\n",
       "      <td>6.7</td>\n",
       "      <td>8.5</td>\n",
       "      <td>33</td>\n",
       "      <td>5.278115</td>\n",
       "    </tr>\n",
       "    <tr>\n",
       "      <th>1</th>\n",
       "      <td>acura</td>\n",
       "      <td>ilx</td>\n",
       "      <td>compact</td>\n",
       "      <td>2.4</td>\n",
       "      <td>4</td>\n",
       "      <td>m6</td>\n",
       "      <td>z</td>\n",
       "      <td>11.2</td>\n",
       "      <td>7.7</td>\n",
       "      <td>9.6</td>\n",
       "      <td>29</td>\n",
       "      <td>5.398163</td>\n",
       "    </tr>\n",
       "    <tr>\n",
       "      <th>2</th>\n",
       "      <td>acura</td>\n",
       "      <td>ilx_hybrid</td>\n",
       "      <td>compact</td>\n",
       "      <td>1.5</td>\n",
       "      <td>4</td>\n",
       "      <td>av7</td>\n",
       "      <td>z</td>\n",
       "      <td>6.0</td>\n",
       "      <td>5.8</td>\n",
       "      <td>5.9</td>\n",
       "      <td>48</td>\n",
       "      <td>4.912655</td>\n",
       "    </tr>\n",
       "    <tr>\n",
       "      <th>3</th>\n",
       "      <td>acura</td>\n",
       "      <td>mdx_4wd</td>\n",
       "      <td>suv_-_small</td>\n",
       "      <td>3.5</td>\n",
       "      <td>6</td>\n",
       "      <td>as6</td>\n",
       "      <td>z</td>\n",
       "      <td>12.7</td>\n",
       "      <td>9.1</td>\n",
       "      <td>11.1</td>\n",
       "      <td>25</td>\n",
       "      <td>5.541264</td>\n",
       "    </tr>\n",
       "    <tr>\n",
       "      <th>4</th>\n",
       "      <td>acura</td>\n",
       "      <td>rdx_awd</td>\n",
       "      <td>suv_-_small</td>\n",
       "      <td>3.5</td>\n",
       "      <td>6</td>\n",
       "      <td>as6</td>\n",
       "      <td>z</td>\n",
       "      <td>12.1</td>\n",
       "      <td>8.7</td>\n",
       "      <td>10.6</td>\n",
       "      <td>27</td>\n",
       "      <td>5.497168</td>\n",
       "    </tr>\n",
       "  </tbody>\n",
       "</table>\n",
       "</div>"
      ],
      "text/plain": [
       "    make       model vehicle_class  engine_size  cylinders transmission  \\\n",
       "0  acura         ilx       compact          2.0          4          as5   \n",
       "1  acura         ilx       compact          2.4          4           m6   \n",
       "2  acura  ilx_hybrid       compact          1.5          4          av7   \n",
       "3  acura     mdx_4wd   suv_-_small          3.5          6          as6   \n",
       "4  acura     rdx_awd   suv_-_small          3.5          6          as6   \n",
       "\n",
       "  fuel_type  fuel_consumption_city  fuel_consumption_hwy  \\\n",
       "0         z                    9.9                   6.7   \n",
       "1         z                   11.2                   7.7   \n",
       "2         z                    6.0                   5.8   \n",
       "3         z                   12.7                   9.1   \n",
       "4         z                   12.1                   8.7   \n",
       "\n",
       "   fuel_consumption_comb  fuel_consumption_comb_mpg   log_co2  \n",
       "0                    8.5                         33  5.278115  \n",
       "1                    9.6                         29  5.398163  \n",
       "2                    5.9                         48  4.912655  \n",
       "3                   11.1                         25  5.541264  \n",
       "4                   10.6                         27  5.497168  "
      ]
     },
     "execution_count": 22,
     "metadata": {},
     "output_type": "execute_result"
    }
   ],
   "source": [
    "df.head()"
   ]
  },
  {
   "cell_type": "code",
   "execution_count": 23,
   "metadata": {},
   "outputs": [
    {
     "data": {
      "text/plain": [
       "make                           42\n",
       "model                        1596\n",
       "vehicle_class                  16\n",
       "engine_size                    51\n",
       "cylinders                       8\n",
       "transmission                   27\n",
       "fuel_type                       5\n",
       "fuel_consumption_city         211\n",
       "fuel_consumption_hwy          143\n",
       "fuel_consumption_comb         181\n",
       "fuel_consumption_comb_mpg      54\n",
       "log_co2                       331\n",
       "dtype: int64"
      ]
     },
     "execution_count": 23,
     "metadata": {},
     "output_type": "execute_result"
    }
   ],
   "source": [
    "df.nunique()"
   ]
  },
  {
   "cell_type": "markdown",
   "metadata": {},
   "source": [
    "### 1.2 Exploratory Data Analysis For Categorical Variable"
   ]
  },
  {
   "cell_type": "markdown",
   "metadata": {},
   "source": [
    "#### 1.2.1 Car Manufacturer"
   ]
  },
  {
   "cell_type": "code",
   "execution_count": 24,
   "metadata": {},
   "outputs": [
    {
     "data": {
      "text/plain": [
       "<AxesSubplot:xlabel='count', ylabel='make'>"
      ]
     },
     "execution_count": 24,
     "metadata": {},
     "output_type": "execute_result"
    },
    {
     "data": {
      "image/png": "[encoded data removed]",
      "text/plain": [
       "<Figure size 1080x720 with 1 Axes>"
      ]
     },
     "metadata": {
      "needs_background": "light"
     },
     "output_type": "display_data"
    }
   ],
   "source": [
    "plt.figure(figsize=(15,10))\n",
    "sns.countplot(y = \"make\", data=df_full_train, orient='v' )"
   ]
  },
  {
   "cell_type": "markdown",
   "metadata": {},
   "source": [
    "#### 1.2.2 Transmission"
   ]
  },
  {
   "cell_type": "code",
   "execution_count": 25,
   "metadata": {},
   "outputs": [
    {
     "data": {
      "text/plain": [
       "Text(0.5, 0, 'Transmission')"
      ]
     },
     "execution_count": 25,
     "metadata": {},
     "output_type": "execute_result"
    },
    {
     "data": {
      "image/png": "[encoded data removed]",
      "text/plain": [
       "<Figure size 1080x576 with 1 Axes>"
      ]
     },
     "metadata": {
      "needs_background": "light"
     },
     "output_type": "display_data"
    }
   ],
   "source": [
    "plt.figure(figsize=(15,8))\n",
    "sns.boxplot(x = df_full_train.transmission, y = np.exp(df_full_train.log_co2), data = df_full_train)\n",
    "plt.xticks(rotation=45)\n",
    "plt.ylabel(\"CO^2 Emission\")\n",
    "plt.xlabel(\"Transmission\")"
   ]
  },
  {
   "cell_type": "markdown",
   "metadata": {},
   "source": [
    "#### 1.2.3 Vehicle Class"
   ]
  },
  {
   "cell_type": "code",
   "execution_count": 26,
   "metadata": {},
   "outputs": [
    {
     "data": {
      "text/plain": [
       "Text(0.5, 0, 'Vehicle Class')"
      ]
     },
     "execution_count": 26,
     "metadata": {},
     "output_type": "execute_result"
    },
    {
     "data": {
      "image/png": "[encoded data removed]",
      "text/plain": [
       "<Figure size 1080x576 with 1 Axes>"
      ]
     },
     "metadata": {
      "needs_background": "light"
     },
     "output_type": "display_data"
    }
   ],
   "source": [
    "plt.figure(figsize=(15,8))\n",
    "sns.boxplot(x = df_full_train.vehicle_class, y = np.exp(df_full_train.log_co2), data = df_full_train)\n",
    "plt.xticks(rotation=45)\n",
    "plt.ylabel(\"CO^2 Emission\")\n",
    "plt.xlabel(\"Vehicle Class\")\n",
    "\n"
   ]
  },
  {
   "cell_type": "markdown",
   "metadata": {},
   "source": [
    "#### 1.2.4 Fuel Type"
   ]
  },
  {
   "cell_type": "code",
   "execution_count": 27,
   "metadata": {},
   "outputs": [
    {
     "data": {
      "text/plain": [
       "Text(0.5, 0, 'Fuel Type')"
      ]
     },
     "execution_count": 27,
     "metadata": {},
     "output_type": "execute_result"
    },
    {
     "data": {
      "image/png": "[encoded data removed]",
      "text/plain": [
       "<Figure size 1080x576 with 1 Axes>"
      ]
     },
     "metadata": {
      "needs_background": "light"
     },
     "output_type": "display_data"
    }
   ],
   "source": [
    "\n",
    "plt.figure(figsize=(15,8))\n",
    "sns.boxplot(x = df_full_train.fuel_type, y = np.exp(df_full_train.log_co2), data = df_full_train)\n",
    "plt.xticks(rotation=45)\n",
    "plt.ylabel(\"CO^2 Emission\")\n",
    "plt.xlabel(\"Fuel Type\")"
   ]
  },
  {
   "cell_type": "markdown",
   "metadata": {},
   "source": [
    "### 1.3 Exploratory Data Analysis For Numerical Variable"
   ]
  },
  {
   "cell_type": "markdown",
   "metadata": {},
   "source": [
    "#### 1.3.1 Engine Size"
   ]
  },
  {
   "cell_type": "code",
   "execution_count": 28,
   "metadata": {},
   "outputs": [
    {
     "data": {
      "text/plain": [
       "Text(0.5, 0, 'Engine Size')"
      ]
     },
     "execution_count": 28,
     "metadata": {},
     "output_type": "execute_result"
    },
    {
     "data": {
      "image/png": "[encoded data removed]",
      "text/plain": [
       "<Figure size 720x576 with 1 Axes>"
      ]
     },
     "metadata": {
      "needs_background": "light"
     },
     "output_type": "display_data"
    }
   ],
   "source": [
    "plt.figure(figsize=(10,8))\n",
    "sns.lineplot(data=df_full_train, x = df_full_train.engine_size, y = np.exp(df_full_train.log_co2))\n",
    "plt.ylabel(\"CO^2 Emission\")\n",
    "plt.xlabel(\"Engine Size\")"
   ]
  },
  {
   "cell_type": "code",
   "execution_count": 29,
   "metadata": {},
   "outputs": [
    {
     "data": {
      "text/html": [
       "<div>\n",
       "<style scoped>\n",
       "    .dataframe tbody tr th:only-of-type {\n",
       "        vertical-align: middle;\n",
       "    }\n",
       "\n",
       "    .dataframe tbody tr th {\n",
       "        vertical-align: top;\n",
       "    }\n",
       "\n",
       "    .dataframe thead th {\n",
       "        text-align: right;\n",
       "    }\n",
       "</style>\n",
       "<table border=\"1\" class=\"dataframe\">\n",
       "  <thead>\n",
       "    <tr style=\"text-align: right;\">\n",
       "      <th></th>\n",
       "      <th>make</th>\n",
       "      <th>model</th>\n",
       "      <th>vehicle_class</th>\n",
       "      <th>engine_size</th>\n",
       "      <th>cylinders</th>\n",
       "      <th>transmission</th>\n",
       "      <th>fuel_type</th>\n",
       "      <th>fuel_consumption_city</th>\n",
       "      <th>fuel_consumption_hwy</th>\n",
       "      <th>fuel_consumption_comb</th>\n",
       "      <th>fuel_consumption_comb_mpg</th>\n",
       "      <th>log_co2</th>\n",
       "    </tr>\n",
       "  </thead>\n",
       "  <tbody>\n",
       "    <tr>\n",
       "      <th>990</th>\n",
       "      <td>bugatti</td>\n",
       "      <td>chiron</td>\n",
       "      <td>two-seater</td>\n",
       "      <td>8.0</td>\n",
       "      <td>16</td>\n",
       "      <td>am7</td>\n",
       "      <td>z</td>\n",
       "      <td>26.8</td>\n",
       "      <td>16.6</td>\n",
       "      <td>22.2</td>\n",
       "      <td>13</td>\n",
       "      <td>6.257668</td>\n",
       "    </tr>\n",
       "    <tr>\n",
       "      <th>4932</th>\n",
       "      <td>bugatti</td>\n",
       "      <td>chiron</td>\n",
       "      <td>two-seater</td>\n",
       "      <td>8.0</td>\n",
       "      <td>16</td>\n",
       "      <td>am7</td>\n",
       "      <td>z</td>\n",
       "      <td>26.8</td>\n",
       "      <td>16.6</td>\n",
       "      <td>22.2</td>\n",
       "      <td>13</td>\n",
       "      <td>6.257668</td>\n",
       "    </tr>\n",
       "    <tr>\n",
       "      <th>5680</th>\n",
       "      <td>bugatti</td>\n",
       "      <td>chiron</td>\n",
       "      <td>two-seater</td>\n",
       "      <td>8.0</td>\n",
       "      <td>16</td>\n",
       "      <td>am7</td>\n",
       "      <td>z</td>\n",
       "      <td>26.8</td>\n",
       "      <td>16.6</td>\n",
       "      <td>22.2</td>\n",
       "      <td>13</td>\n",
       "      <td>6.257668</td>\n",
       "    </tr>\n",
       "  </tbody>\n",
       "</table>\n",
       "</div>"
      ],
      "text/plain": [
       "         make   model vehicle_class  engine_size  cylinders transmission  \\\n",
       "990   bugatti  chiron    two-seater          8.0         16          am7   \n",
       "4932  bugatti  chiron    two-seater          8.0         16          am7   \n",
       "5680  bugatti  chiron    two-seater          8.0         16          am7   \n",
       "\n",
       "     fuel_type  fuel_consumption_city  fuel_consumption_hwy  \\\n",
       "990          z                   26.8                  16.6   \n",
       "4932         z                   26.8                  16.6   \n",
       "5680         z                   26.8                  16.6   \n",
       "\n",
       "      fuel_consumption_comb  fuel_consumption_comb_mpg   log_co2  \n",
       "990                    22.2                         13  6.257668  \n",
       "4932                   22.2                         13  6.257668  \n",
       "5680                   22.2                         13  6.257668  "
      ]
     },
     "execution_count": 29,
     "metadata": {},
     "output_type": "execute_result"
    }
   ],
   "source": [
    "df_full_train[\n",
    "\tdf_full_train['engine_size'] == 8\n",
    "]"
   ]
  },
  {
   "cell_type": "markdown",
   "metadata": {},
   "source": [
    "#### 1.3.2 Cylinders"
   ]
  },
  {
   "cell_type": "code",
   "execution_count": 30,
   "metadata": {},
   "outputs": [
    {
     "data": {
      "text/plain": [
       "Text(0.5, 0, 'Cylinders')"
      ]
     },
     "execution_count": 30,
     "metadata": {},
     "output_type": "execute_result"
    },
    {
     "data": {
      "image/png": "[encoded data removed]",
      "text/plain": [
       "<Figure size 720x576 with 1 Axes>"
      ]
     },
     "metadata": {
      "needs_background": "light"
     },
     "output_type": "display_data"
    }
   ],
   "source": [
    "plt.figure(figsize=(10,8))\n",
    "sns.lineplot(data=df_full_train, x = df_full_train.cylinders, y = np.exp(df_full_train.log_co2))\n",
    "plt.ylabel(\"CO^2 Emission\")\n",
    "plt.xlabel(\"Cylinders\")"
   ]
  },
  {
   "cell_type": "code",
   "execution_count": 31,
   "metadata": {},
   "outputs": [
    {
     "data": {
      "text/html": [
       "<div>\n",
       "<style scoped>\n",
       "    .dataframe tbody tr th:only-of-type {\n",
       "        vertical-align: middle;\n",
       "    }\n",
       "\n",
       "    .dataframe tbody tr th {\n",
       "        vertical-align: top;\n",
       "    }\n",
       "\n",
       "    .dataframe thead th {\n",
       "        text-align: right;\n",
       "    }\n",
       "</style>\n",
       "<table border=\"1\" class=\"dataframe\">\n",
       "  <thead>\n",
       "    <tr style=\"text-align: right;\">\n",
       "      <th></th>\n",
       "      <th>make</th>\n",
       "      <th>model</th>\n",
       "      <th>vehicle_class</th>\n",
       "      <th>engine_size</th>\n",
       "      <th>cylinders</th>\n",
       "      <th>transmission</th>\n",
       "      <th>fuel_type</th>\n",
       "      <th>fuel_consumption_city</th>\n",
       "      <th>fuel_consumption_hwy</th>\n",
       "      <th>fuel_consumption_comb</th>\n",
       "      <th>fuel_consumption_comb_mpg</th>\n",
       "      <th>log_co2</th>\n",
       "    </tr>\n",
       "  </thead>\n",
       "  <tbody>\n",
       "    <tr>\n",
       "      <th>990</th>\n",
       "      <td>bugatti</td>\n",
       "      <td>chiron</td>\n",
       "      <td>two-seater</td>\n",
       "      <td>8.0</td>\n",
       "      <td>16</td>\n",
       "      <td>am7</td>\n",
       "      <td>z</td>\n",
       "      <td>26.8</td>\n",
       "      <td>16.6</td>\n",
       "      <td>22.2</td>\n",
       "      <td>13</td>\n",
       "      <td>6.257668</td>\n",
       "    </tr>\n",
       "    <tr>\n",
       "      <th>4932</th>\n",
       "      <td>bugatti</td>\n",
       "      <td>chiron</td>\n",
       "      <td>two-seater</td>\n",
       "      <td>8.0</td>\n",
       "      <td>16</td>\n",
       "      <td>am7</td>\n",
       "      <td>z</td>\n",
       "      <td>26.8</td>\n",
       "      <td>16.6</td>\n",
       "      <td>22.2</td>\n",
       "      <td>13</td>\n",
       "      <td>6.257668</td>\n",
       "    </tr>\n",
       "    <tr>\n",
       "      <th>5680</th>\n",
       "      <td>bugatti</td>\n",
       "      <td>chiron</td>\n",
       "      <td>two-seater</td>\n",
       "      <td>8.0</td>\n",
       "      <td>16</td>\n",
       "      <td>am7</td>\n",
       "      <td>z</td>\n",
       "      <td>26.8</td>\n",
       "      <td>16.6</td>\n",
       "      <td>22.2</td>\n",
       "      <td>13</td>\n",
       "      <td>6.257668</td>\n",
       "    </tr>\n",
       "  </tbody>\n",
       "</table>\n",
       "</div>"
      ],
      "text/plain": [
       "         make   model vehicle_class  engine_size  cylinders transmission  \\\n",
       "990   bugatti  chiron    two-seater          8.0         16          am7   \n",
       "4932  bugatti  chiron    two-seater          8.0         16          am7   \n",
       "5680  bugatti  chiron    two-seater          8.0         16          am7   \n",
       "\n",
       "     fuel_type  fuel_consumption_city  fuel_consumption_hwy  \\\n",
       "990          z                   26.8                  16.6   \n",
       "4932         z                   26.8                  16.6   \n",
       "5680         z                   26.8                  16.6   \n",
       "\n",
       "      fuel_consumption_comb  fuel_consumption_comb_mpg   log_co2  \n",
       "990                    22.2                         13  6.257668  \n",
       "4932                   22.2                         13  6.257668  \n",
       "5680                   22.2                         13  6.257668  "
      ]
     },
     "execution_count": 31,
     "metadata": {},
     "output_type": "execute_result"
    }
   ],
   "source": [
    "df_full_train[\n",
    "\tdf_full_train['cylinders'] == 16\n",
    "]"
   ]
  },
  {
   "cell_type": "markdown",
   "metadata": {},
   "source": [
    "#### 1.3.3 Transmission"
   ]
  },
  {
   "cell_type": "code",
   "execution_count": 32,
   "metadata": {},
   "outputs": [
    {
     "data": {
      "text/plain": [
       "Text(0.5, 0, 'Transmission')"
      ]
     },
     "execution_count": 32,
     "metadata": {},
     "output_type": "execute_result"
    },
    {
     "data": {
      "image/png": "[encoded data removed]",
      "text/plain": [
       "<Figure size 720x576 with 1 Axes>"
      ]
     },
     "metadata": {
      "needs_background": "light"
     },
     "output_type": "display_data"
    }
   ],
   "source": [
    "plt.figure(figsize=(10,8))\n",
    "sns.lineplot(data=df_full_train, x = df_full_train.transmission, y = np.exp(df_full_train.log_co2))\n",
    "plt.xticks(rotation=45)\n",
    "plt.ylabel(\"CO^2 Emission\")\n",
    "plt.xlabel(\"Transmission\")"
   ]
  },
  {
   "cell_type": "markdown",
   "metadata": {},
   "source": [
    "#### 1.3.4 Fuel Consumpiton for City"
   ]
  },
  {
   "cell_type": "code",
   "execution_count": 33,
   "metadata": {},
   "outputs": [
    {
     "data": {
      "text/plain": [
       "Text(0.5, 0, 'fuel_consumption_city (l/100_km)')"
      ]
     },
     "execution_count": 33,
     "metadata": {},
     "output_type": "execute_result"
    },
    {
     "data": {
      "image/png": "[encoded data removed]",
      "text/plain": [
       "<Figure size 720x576 with 1 Axes>"
      ]
     },
     "metadata": {
      "needs_background": "light"
     },
     "output_type": "display_data"
    }
   ],
   "source": [
    "plt.figure(figsize=(10,8))\n",
    "sns.lineplot(data=df_full_train, x = df_full_train.fuel_consumption_city, y = np.exp(df_full_train.log_co2))\n",
    "plt.xticks(rotation=45)\n",
    "plt.ylabel(\"CO^2 Emission\")\n",
    "plt.xlabel(\"fuel_consumption_city (l/100_km)\")"
   ]
  },
  {
   "cell_type": "code",
   "execution_count": 34,
   "metadata": {},
   "outputs": [],
   "source": [
    "df_cylinders = df_full_train[\n",
    "\tdf_full_train['fuel_consumption_city'] <= 17\n",
    "]"
   ]
  },
  {
   "cell_type": "code",
   "execution_count": 35,
   "metadata": {},
   "outputs": [],
   "source": [
    "df_cylinders2 = df_full_train[\n",
    "\tdf_full_train['fuel_consumption_city'] > 17\n",
    "]"
   ]
  },
  {
   "cell_type": "code",
   "execution_count": 36,
   "metadata": {},
   "outputs": [
    {
     "data": {
      "text/plain": [
       "<AxesSubplot:xlabel='count', ylabel='fuel_type'>"
      ]
     },
     "execution_count": 36,
     "metadata": {},
     "output_type": "execute_result"
    },
    {
     "data": {
      "image/png": "[encoded data removed]",
      "text/plain": [
       "<Figure size 576x432 with 1 Axes>"
      ]
     },
     "metadata": {
      "needs_background": "light"
     },
     "output_type": "display_data"
    }
   ],
   "source": [
    "plt.figure(figsize=(8,6))\n",
    "sns.countplot(y = \"fuel_type\", data=df_cylinders, palette=\"Set2\")"
   ]
  },
  {
   "cell_type": "code",
   "execution_count": 37,
   "metadata": {},
   "outputs": [
    {
     "data": {
      "text/plain": [
       "<AxesSubplot:xlabel='count', ylabel='fuel_type'>"
      ]
     },
     "execution_count": 37,
     "metadata": {},
     "output_type": "execute_result"
    },
    {
     "data": {
      "image/png": "[encoded data removed]",
      "text/plain": [
       "<Figure size 576x432 with 1 Axes>"
      ]
     },
     "metadata": {
      "needs_background": "light"
     },
     "output_type": "display_data"
    }
   ],
   "source": [
    "plt.figure(figsize=(8,6))\n",
    "sns.countplot(y = \"fuel_type\", data=df_cylinders2, palette=\"Set1\")"
   ]
  },
  {
   "cell_type": "markdown",
   "metadata": {},
   "source": [
    "#### 1.3.5 Fuel Consumption Highway"
   ]
  },
  {
   "cell_type": "code",
   "execution_count": 38,
   "metadata": {},
   "outputs": [
    {
     "data": {
      "text/plain": [
       "Text(0.5, 0, 'fuel_consumption_hwy (l/100_km)')"
      ]
     },
     "execution_count": 38,
     "metadata": {},
     "output_type": "execute_result"
    },
    {
     "data": {
      "image/png": "[encoded data removed]",
      "text/plain": [
       "<Figure size 720x576 with 1 Axes>"
      ]
     },
     "metadata": {
      "needs_background": "light"
     },
     "output_type": "display_data"
    }
   ],
   "source": [
    "plt.figure(figsize=(10,8))\n",
    "sns.lineplot(data=df_full_train, x = df_full_train.fuel_consumption_hwy, y = np.exp(df_full_train.log_co2))\n",
    "plt.xticks(rotation=45)\n",
    "plt.ylabel(\"CO^2 Emission\")\n",
    "plt.xlabel(\"fuel_consumption_hwy (l/100_km)\")"
   ]
  },
  {
   "cell_type": "markdown",
   "metadata": {},
   "source": [
    "#### 1.3.6 Fuel Consumpiton Combined (55% city & 45% highway)"
   ]
  },
  {
   "cell_type": "code",
   "execution_count": 39,
   "metadata": {},
   "outputs": [
    {
     "data": {
      "text/plain": [
       "Text(0.5, 0, 'fuel_consumption_comb (l/100_km)')"
      ]
     },
     "execution_count": 39,
     "metadata": {},
     "output_type": "execute_result"
    },
    {
     "data": {
      "image/png": "[encoded data removed]",
      "text/plain": [
       "<Figure size 720x576 with 1 Axes>"
      ]
     },
     "metadata": {
      "needs_background": "light"
     },
     "output_type": "display_data"
    }
   ],
   "source": [
    "plt.figure(figsize=(10,8))\n",
    "sns.lineplot(data=df_full_train, x = df_full_train.fuel_consumption_comb, y = np.exp(df_full_train.log_co2))\n",
    "plt.xticks(rotation=45)\n",
    "plt.ylabel(\"CO^2 Emission\")\n",
    "plt.xlabel(\"fuel_consumption_comb (l/100_km)\")"
   ]
  },
  {
   "cell_type": "markdown",
   "metadata": {},
   "source": [
    "#### 1.3.7 Fuel Consumption Combined Miles Per Gallon"
   ]
  },
  {
   "cell_type": "code",
   "execution_count": 40,
   "metadata": {},
   "outputs": [
    {
     "data": {
      "text/plain": [
       "Text(0.5, 0, 'fuel_consumption_comb (mpg)')"
      ]
     },
     "execution_count": 40,
     "metadata": {},
     "output_type": "execute_result"
    },
    {
     "data": {
      "image/png": "[encoded data removed]",
      "text/plain": [
       "<Figure size 720x576 with 1 Axes>"
      ]
     },
     "metadata": {
      "needs_background": "light"
     },
     "output_type": "display_data"
    }
   ],
   "source": [
    "plt.figure(figsize=(10,8))\n",
    "sns.lineplot(data=df_full_train, x = df_full_train.fuel_consumption_comb_mpg, y = np.exp(df_full_train.log_co2))\n",
    "plt.xticks(rotation=45)\n",
    "plt.ylabel(\"CO^2 Emission\")\n",
    "plt.xlabel(\"fuel_consumption_comb (mpg)\")"
   ]
  },
  {
   "cell_type": "markdown",
   "metadata": {},
   "source": [
    "### 1.4 Exploratory Data Analysis For Correlated Data"
   ]
  },
  {
   "cell_type": "code",
   "execution_count": 41,
   "metadata": {},
   "outputs": [],
   "source": [
    "\n",
    "num = ['engine_size', 'cylinders', 'fuel_consumption_city', 'fuel_consumption_hwy', 'fuel_consumption_comb', 'fuel_consumption_comb_mpg']"
   ]
  },
  {
   "cell_type": "code",
   "execution_count": 42,
   "metadata": {},
   "outputs": [
    {
     "data": {
      "image/png": "[encoded data removed]",
      "text/plain": [
       "<Figure size 720x504 with 2 Axes>"
      ]
     },
     "metadata": {
      "needs_background": "light"
     },
     "output_type": "display_data"
    }
   ],
   "source": [
    "\n",
    "plt.figure(figsize=(10,7))  \n",
    "sns.heatmap(df[num].corr(),annot=True,linewidths=.5)\n",
    "plt.show()"
   ]
  },
  {
   "cell_type": "markdown",
   "metadata": {},
   "source": [
    "### 1.4 Models"
   ]
  },
  {
   "cell_type": "markdown",
   "metadata": {},
   "source": [
    "#### 1.4.1 Linear Regression"
   ]
  },
  {
   "cell_type": "code",
   "execution_count": 43,
   "metadata": {},
   "outputs": [],
   "source": [
    "selected=['vehicle_class', 'engine_size', 'cylinders', 'fuel_type', 'fuel_consumption_city', 'fuel_consumption_hwy', 'fuel_consumption_comb_mpg', 'log_co2']"
   ]
  },
  {
   "cell_type": "code",
   "execution_count": 44,
   "metadata": {},
   "outputs": [],
   "source": [
    "df_train = df_train[selected]\n",
    "df_val = df_val[selected]\n",
    "df_test = df_test[selected]"
   ]
  },
  {
   "cell_type": "code",
   "execution_count": 45,
   "metadata": {},
   "outputs": [
    {
     "data": {
      "text/plain": [
       "vehicle_class                 16\n",
       "engine_size                   50\n",
       "cylinders                      8\n",
       "fuel_type                      4\n",
       "fuel_consumption_city        204\n",
       "fuel_consumption_hwy         135\n",
       "fuel_consumption_comb_mpg     53\n",
       "log_co2                      314\n",
       "dtype: int64"
      ]
     },
     "execution_count": 45,
     "metadata": {},
     "output_type": "execute_result"
    }
   ],
   "source": [
    "df_train.nunique()"
   ]
  },
  {
   "cell_type": "code",
   "execution_count": 46,
   "metadata": {},
   "outputs": [
    {
     "data": {
      "text/plain": [
       "vehicle_class                 16\n",
       "engine_size                   49\n",
       "cylinders                      8\n",
       "fuel_type                      5\n",
       "fuel_consumption_city        174\n",
       "fuel_consumption_hwy         114\n",
       "fuel_consumption_comb_mpg     43\n",
       "log_co2                      259\n",
       "dtype: int64"
      ]
     },
     "execution_count": 46,
     "metadata": {},
     "output_type": "execute_result"
    }
   ],
   "source": [
    "df_val.nunique()"
   ]
  },
  {
   "cell_type": "code",
   "execution_count": 47,
   "metadata": {},
   "outputs": [
    {
     "data": {
      "text/plain": [
       "x    729\n",
       "z    640\n",
       "e     74\n",
       "d     33\n",
       "n      1\n",
       "Name: fuel_type, dtype: int64"
      ]
     },
     "execution_count": 47,
     "metadata": {},
     "output_type": "execute_result"
    }
   ],
   "source": [
    "df_val.fuel_type.value_counts()"
   ]
  },
  {
   "cell_type": "code",
   "execution_count": 48,
   "metadata": {},
   "outputs": [],
   "source": [
    "df_val.drop(df_val[\n",
    "\tdf_val.fuel_type == 'n'\n",
    "].index, inplace = True)"
   ]
  },
  {
   "cell_type": "code",
   "execution_count": 49,
   "metadata": {},
   "outputs": [
    {
     "data": {
      "text/html": [
       "<div>\n",
       "<style scoped>\n",
       "    .dataframe tbody tr th:only-of-type {\n",
       "        vertical-align: middle;\n",
       "    }\n",
       "\n",
       "    .dataframe tbody tr th {\n",
       "        vertical-align: top;\n",
       "    }\n",
       "\n",
       "    .dataframe thead th {\n",
       "        text-align: right;\n",
       "    }\n",
       "</style>\n",
       "<table border=\"1\" class=\"dataframe\">\n",
       "  <thead>\n",
       "    <tr style=\"text-align: right;\">\n",
       "      <th></th>\n",
       "      <th>vehicle_class</th>\n",
       "      <th>engine_size</th>\n",
       "      <th>cylinders</th>\n",
       "      <th>fuel_type</th>\n",
       "      <th>fuel_consumption_city</th>\n",
       "      <th>fuel_consumption_hwy</th>\n",
       "      <th>fuel_consumption_comb_mpg</th>\n",
       "      <th>log_co2</th>\n",
       "    </tr>\n",
       "  </thead>\n",
       "  <tbody>\n",
       "    <tr>\n",
       "      <th>684</th>\n",
       "      <td>two-seater</td>\n",
       "      <td>8.0</td>\n",
       "      <td>16</td>\n",
       "      <td>z</td>\n",
       "      <td>26.8</td>\n",
       "      <td>16.6</td>\n",
       "      <td>13</td>\n",
       "      <td>6.257668</td>\n",
       "    </tr>\n",
       "    <tr>\n",
       "      <th>1802</th>\n",
       "      <td>two-seater</td>\n",
       "      <td>8.0</td>\n",
       "      <td>16</td>\n",
       "      <td>z</td>\n",
       "      <td>26.8</td>\n",
       "      <td>16.6</td>\n",
       "      <td>13</td>\n",
       "      <td>6.257668</td>\n",
       "    </tr>\n",
       "  </tbody>\n",
       "</table>\n",
       "</div>"
      ],
      "text/plain": [
       "     vehicle_class  engine_size  cylinders fuel_type  fuel_consumption_city  \\\n",
       "684     two-seater          8.0         16         z                   26.8   \n",
       "1802    two-seater          8.0         16         z                   26.8   \n",
       "\n",
       "      fuel_consumption_hwy  fuel_consumption_comb_mpg   log_co2  \n",
       "684                   16.6                         13  6.257668  \n",
       "1802                  16.6                         13  6.257668  "
      ]
     },
     "execution_count": 49,
     "metadata": {},
     "output_type": "execute_result"
    }
   ],
   "source": [
    "df_train[\n",
    "\tdf_train.cylinders == 16\n",
    "]"
   ]
  },
  {
   "cell_type": "code",
   "execution_count": 50,
   "metadata": {},
   "outputs": [],
   "source": [
    "df_train.drop(df_train[\n",
    "\tdf_train.cylinders == 16\n",
    "].index, inplace = True)"
   ]
  },
  {
   "cell_type": "code",
   "execution_count": 51,
   "metadata": {},
   "outputs": [],
   "source": [
    "df_val.drop(df_val[\n",
    "\tdf_val.cylinders == 16\n",
    "].index, inplace = True)\n"
   ]
  },
  {
   "cell_type": "code",
   "execution_count": 52,
   "metadata": {},
   "outputs": [
    {
     "data": {
      "text/plain": [
       "4     1923\n",
       "6     1485\n",
       "8      843\n",
       "12      78\n",
       "3       61\n",
       "10      24\n",
       "5       15\n",
       "Name: cylinders, dtype: int64"
      ]
     },
     "execution_count": 52,
     "metadata": {},
     "output_type": "execute_result"
    }
   ],
   "source": [
    "df_train.cylinders.value_counts()"
   ]
  },
  {
   "cell_type": "code",
   "execution_count": 53,
   "metadata": {},
   "outputs": [
    {
     "data": {
      "text/plain": [
       "4     648\n",
       "6     494\n",
       "8     258\n",
       "12     44\n",
       "3      14\n",
       "10     10\n",
       "5       7\n",
       "Name: cylinders, dtype: int64"
      ]
     },
     "execution_count": 53,
     "metadata": {},
     "output_type": "execute_result"
    }
   ],
   "source": [
    "df_val.cylinders.value_counts()"
   ]
  },
  {
   "cell_type": "code",
   "execution_count": 54,
   "metadata": {},
   "outputs": [],
   "source": [
    "from sklearn.feature_extraction import DictVectorizer\n"
   ]
  },
  {
   "cell_type": "code",
   "execution_count": 55,
   "metadata": {},
   "outputs": [],
   "source": [
    "y_train = df_train['log_co2'].values\n",
    "y_val = df_val['log_co2'].values\n",
    "y_test = df_test['log_co2'].values"
   ]
  },
  {
   "cell_type": "code",
   "execution_count": 56,
   "metadata": {},
   "outputs": [],
   "source": [
    "del df_train['log_co2']\n",
    "del df_val['log_co2']\n",
    "del df_test['log_co2']"
   ]
  },
  {
   "cell_type": "code",
   "execution_count": 57,
   "metadata": {},
   "outputs": [],
   "source": [
    "train_dicts = df_train.to_dict(orient = 'records')\n",
    "dv = DictVectorizer(sparse = False)\n",
    "X_train = dv.fit_transform(train_dicts)"
   ]
  },
  {
   "cell_type": "code",
   "execution_count": 58,
   "metadata": {},
   "outputs": [],
   "source": [
    "from sklearn.linear_model import LinearRegression\n",
    "from sklearn.metrics import r2_score\n",
    "from sklearn.metrics import mean_squared_error"
   ]
  },
  {
   "cell_type": "code",
   "execution_count": 59,
   "metadata": {},
   "outputs": [
    {
     "data": {
      "text/plain": [
       "(4429, 25)"
      ]
     },
     "execution_count": 59,
     "metadata": {},
     "output_type": "execute_result"
    }
   ],
   "source": [
    "X_train.shape"
   ]
  },
  {
   "cell_type": "code",
   "execution_count": 60,
   "metadata": {},
   "outputs": [
    {
     "data": {
      "text/plain": [
       "LinearRegression()"
      ]
     },
     "execution_count": 60,
     "metadata": {},
     "output_type": "execute_result"
    }
   ],
   "source": [
    "linear_model = LinearRegression()\n",
    "linear_model.fit(X_train, y_train)"
   ]
  },
  {
   "cell_type": "code",
   "execution_count": 61,
   "metadata": {},
   "outputs": [
    {
     "data": {
      "text/plain": [
       "0.995615489766251"
      ]
     },
     "execution_count": 61,
     "metadata": {},
     "output_type": "execute_result"
    }
   ],
   "source": [
    "linear_model.score(X_train, y_train)"
   ]
  },
  {
   "cell_type": "code",
   "execution_count": 62,
   "metadata": {},
   "outputs": [],
   "source": [
    "y_pred_train = linear_model.predict(X_train)\n"
   ]
  },
  {
   "cell_type": "code",
   "execution_count": 63,
   "metadata": {},
   "outputs": [
    {
     "data": {
      "text/plain": [
       "(0.9955961811775564, 0.015527409345550393)"
      ]
     },
     "execution_count": 63,
     "metadata": {},
     "output_type": "execute_result"
    }
   ],
   "source": [
    "r2_score(y_pred_train, y_train), mean_squared_error(y_pred_train, y_train, squared=False)"
   ]
  },
  {
   "cell_type": "code",
   "execution_count": 64,
   "metadata": {},
   "outputs": [],
   "source": [
    "val_dicts = df_val.to_dict(orient = 'records')\n",
    "dv = DictVectorizer(sparse = False)\n",
    "X_val = dv.fit_transform(val_dicts)"
   ]
  },
  {
   "cell_type": "code",
   "execution_count": 65,
   "metadata": {},
   "outputs": [
    {
     "data": {
      "text/plain": [
       "(1475, 25)"
      ]
     },
     "execution_count": 65,
     "metadata": {},
     "output_type": "execute_result"
    }
   ],
   "source": [
    "X_val.shape"
   ]
  },
  {
   "cell_type": "code",
   "execution_count": 66,
   "metadata": {},
   "outputs": [],
   "source": [
    "y_pred_val = linear_model.predict(X_val)"
   ]
  },
  {
   "cell_type": "code",
   "execution_count": 67,
   "metadata": {},
   "outputs": [
    {
     "data": {
      "text/plain": [
       "(0.9966151928674323, 0.013520166661567024)"
      ]
     },
     "execution_count": 67,
     "metadata": {},
     "output_type": "execute_result"
    }
   ],
   "source": [
    "r2_score(y_pred_val, y_val), mean_squared_error(y_pred_val, y_val, squared=False)"
   ]
  },
  {
   "cell_type": "markdown",
   "metadata": {},
   "source": [
    "### 1.4.1 Decision Tree"
   ]
  },
  {
   "cell_type": "code",
   "execution_count": 68,
   "metadata": {},
   "outputs": [],
   "source": [
    "from sklearn.tree import DecisionTreeRegressor"
   ]
  },
  {
   "cell_type": "code",
   "execution_count": 69,
   "metadata": {},
   "outputs": [],
   "source": [
    "dt = DecisionTreeRegressor()"
   ]
  },
  {
   "cell_type": "code",
   "execution_count": 70,
   "metadata": {},
   "outputs": [
    {
     "data": {
      "text/plain": [
       "DecisionTreeRegressor()"
      ]
     },
     "execution_count": 70,
     "metadata": {},
     "output_type": "execute_result"
    }
   ],
   "source": [
    "dt.fit(X_train, y_train)"
   ]
  },
  {
   "cell_type": "code",
   "execution_count": 71,
   "metadata": {},
   "outputs": [
    {
     "data": {
      "text/plain": [
       "(0.9997043662315936, 0.004031357299439389)"
      ]
     },
     "execution_count": 71,
     "metadata": {},
     "output_type": "execute_result"
    }
   ],
   "source": [
    "y_pred_train = dt.predict(X_train)\n",
    "r2_score(y_pred_train, y_train), mean_squared_error(y_pred_train, y_train, squared=False)"
   ]
  },
  {
   "cell_type": "code",
   "execution_count": 72,
   "metadata": {},
   "outputs": [
    {
     "data": {
      "text/plain": [
       "(0.9967058854612876, 0.013400710534921517)"
      ]
     },
     "execution_count": 72,
     "metadata": {},
     "output_type": "execute_result"
    }
   ],
   "source": [
    "y_pred_val = dt.predict(X_val)\n",
    "r2_score(y_pred_val, y_val), mean_squared_error(y_pred_val, y_val, squared=False)"
   ]
  },
  {
   "cell_type": "code",
   "execution_count": 73,
   "metadata": {},
   "outputs": [
    {
     "name": "stdout",
     "output_type": "stream",
     "text": [
      "   1 -> 0.37489856678558486 -> 0.144\n",
      "   2 -> 0.8043129801099816 -> 0.095\n",
      "   3 -> 0.9013856760601923 -> 0.071\n",
      "   4 -> 0.9527902381118545 -> 0.050\n",
      "   5 -> 0.978988446500782 -> 0.034\n",
      "   6 -> 0.9902580484248293 -> 0.023\n",
      "  10 -> 0.9965839297098295 -> 0.014\n",
      "  15 -> 0.9968283779903852 -> 0.013\n",
      "  20 -> 0.9967501272454854 -> 0.013\n",
      "None -> 0.9966123249213101 -> 0.014\n"
     ]
    }
   ],
   "source": [
    "for d in [1,2,3,4,5,6,10,15,20, None]:\n",
    "\tdt = DecisionTreeRegressor(max_depth=d)\n",
    "\tdt.fit(X_train, y_train)\n",
    "\ty_pred_val = dt.predict(X_val)\n",
    "\tr2 = r2_score(y_pred_val, y_val)\n",
    "\trmse = mean_squared_error(y_pred_val, y_val, squared=False)\n",
    "\tprint('%4s -> %4s -> %.3f' % (d, r2, rmse))\n",
    "\n"
   ]
  },
  {
   "cell_type": "code",
   "execution_count": 74,
   "metadata": {},
   "outputs": [
    {
     "name": "stdout",
     "output_type": "stream",
     "text": [
      "   3,   1) -> 0.901 -> 0.071\n",
      "   3,   2) -> 0.901 -> 0.071\n",
      "   3,   5) -> 0.901 -> 0.071\n",
      "   3,  10) -> 0.901 -> 0.071\n",
      "   3,  20) -> 0.901 -> 0.071\n",
      "   3,  50) -> 0.901 -> 0.071\n",
      "   3, 100) -> 0.903 -> 0.071\n",
      "   3, 150) -> 0.899 -> 0.072\n",
      "   3, 200) -> 0.897 -> 0.072\n",
      "   3, 500) -> 0.861 -> 0.082\n",
      "   4,   1) -> 0.953 -> 0.050\n",
      "   4,   2) -> 0.953 -> 0.050\n",
      "   4,   5) -> 0.953 -> 0.050\n",
      "   4,  10) -> 0.952 -> 0.051\n",
      "   4,  20) -> 0.946 -> 0.054\n",
      "   4,  50) -> 0.944 -> 0.055\n",
      "   4, 100) -> 0.943 -> 0.056\n",
      "   4, 150) -> 0.939 -> 0.057\n",
      "   4, 200) -> 0.916 -> 0.065\n",
      "   4, 500) -> 0.861 -> 0.082\n",
      "   5,   1) -> 0.979 -> 0.034\n",
      "   5,   2) -> 0.979 -> 0.034\n",
      "   5,   5) -> 0.979 -> 0.034\n",
      "   5,  10) -> 0.978 -> 0.035\n",
      "   5,  20) -> 0.969 -> 0.041\n",
      "   5,  50) -> 0.965 -> 0.044\n",
      "   5, 100) -> 0.954 -> 0.050\n",
      "   5, 150) -> 0.949 -> 0.053\n",
      "   5, 200) -> 0.920 -> 0.064\n",
      "   5, 500) -> 0.861 -> 0.082\n",
      "   6,   1) -> 0.990 -> 0.023\n",
      "   6,   2) -> 0.991 -> 0.022\n",
      "   6,   5) -> 0.991 -> 0.023\n",
      "   6,  10) -> 0.989 -> 0.025\n",
      "   6,  20) -> 0.978 -> 0.034\n",
      "   6,  50) -> 0.969 -> 0.041\n",
      "   6, 100) -> 0.957 -> 0.049\n",
      "   6, 150) -> 0.950 -> 0.052\n",
      "   6, 200) -> 0.920 -> 0.064\n",
      "   6, 500) -> 0.861 -> 0.082\n",
      "  10,   1) -> 0.996 -> 0.014\n",
      "  10,   2) -> 0.996 -> 0.014\n",
      "  10,   5) -> 0.996 -> 0.015\n",
      "  10,  10) -> 0.993 -> 0.019\n",
      "  10,  20) -> 0.982 -> 0.031\n",
      "  10,  50) -> 0.970 -> 0.041\n",
      "  10, 100) -> 0.957 -> 0.049\n",
      "  10, 150) -> 0.950 -> 0.052\n",
      "  10, 200) -> 0.920 -> 0.064\n",
      "  10, 500) -> 0.861 -> 0.082\n",
      "  15,   1) -> 0.997 -> 0.013\n",
      "  15,   2) -> 0.997 -> 0.013\n",
      "  15,   5) -> 0.996 -> 0.014\n",
      "  15,  10) -> 0.994 -> 0.019\n",
      "  15,  20) -> 0.982 -> 0.031\n",
      "  15,  50) -> 0.970 -> 0.041\n",
      "  15, 100) -> 0.957 -> 0.049\n",
      "  15, 150) -> 0.950 -> 0.052\n",
      "  15, 200) -> 0.920 -> 0.064\n",
      "  15, 500) -> 0.861 -> 0.082\n",
      "  20,   1) -> 0.997 -> 0.013\n",
      "  20,   2) -> 0.997 -> 0.013\n",
      "  20,   5) -> 0.996 -> 0.014\n",
      "  20,  10) -> 0.994 -> 0.019\n",
      "  20,  20) -> 0.982 -> 0.031\n",
      "  20,  50) -> 0.970 -> 0.041\n",
      "  20, 100) -> 0.957 -> 0.049\n",
      "  20, 150) -> 0.950 -> 0.052\n",
      "  20, 200) -> 0.920 -> 0.064\n",
      "  20, 500) -> 0.861 -> 0.082\n",
      "  25,   1) -> 0.997 -> 0.014\n",
      "  25,   2) -> 0.997 -> 0.013\n",
      "  25,   5) -> 0.996 -> 0.014\n",
      "  25,  10) -> 0.994 -> 0.019\n",
      "  25,  20) -> 0.982 -> 0.031\n",
      "  25,  50) -> 0.970 -> 0.041\n",
      "  25, 100) -> 0.957 -> 0.049\n",
      "  25, 150) -> 0.950 -> 0.052\n",
      "  25, 200) -> 0.920 -> 0.064\n",
      "  25, 500) -> 0.861 -> 0.082\n",
      "  30,   1) -> 0.997 -> 0.014\n",
      "  30,   2) -> 0.997 -> 0.013\n",
      "  30,   5) -> 0.996 -> 0.014\n",
      "  30,  10) -> 0.994 -> 0.019\n",
      "  30,  20) -> 0.982 -> 0.031\n",
      "  30,  50) -> 0.970 -> 0.041\n",
      "  30, 100) -> 0.957 -> 0.049\n",
      "  30, 150) -> 0.950 -> 0.052\n",
      "  30, 200) -> 0.920 -> 0.064\n",
      "  30, 500) -> 0.861 -> 0.082\n"
     ]
    }
   ],
   "source": [
    "scores= []\n",
    "for d in [3,4,5,6,10,15,20,25,30]:\n",
    "\tfor s in [1,2,5,10,20,50,100,150,200, 500]:\n",
    "\t\tdt = DecisionTreeRegressor(max_depth=d, min_samples_leaf=s)\n",
    "\t\tdt.fit(X_train, y_train)\n",
    "\t\ty_pred_val = dt.predict(X_val)\n",
    "\t\tr2=r2_score(y_pred_val, y_val)\n",
    "\t\trmse = mean_squared_error(y_pred_val, y_val , squared=False)\n",
    "\t\tprint(('%4s, %3d) -> %.3f -> %.3f' % (d,s, r2, rmse )))\n",
    "\t\tscores.append((s,d, r2, rmse))\n",
    "\n"
   ]
  },
  {
   "cell_type": "code",
   "execution_count": 75,
   "metadata": {},
   "outputs": [],
   "source": [
    "col = ['depth', 'leaf_sample', 'r2', 'rmse']\n",
    "df_params = pd.DataFrame(scores, columns=col)"
   ]
  },
  {
   "cell_type": "code",
   "execution_count": 76,
   "metadata": {},
   "outputs": [
    {
     "data": {
      "text/html": [
       "<div>\n",
       "<style scoped>\n",
       "    .dataframe tbody tr th:only-of-type {\n",
       "        vertical-align: middle;\n",
       "    }\n",
       "\n",
       "    .dataframe tbody tr th {\n",
       "        vertical-align: top;\n",
       "    }\n",
       "\n",
       "    .dataframe thead th {\n",
       "        text-align: right;\n",
       "    }\n",
       "</style>\n",
       "<table border=\"1\" class=\"dataframe\">\n",
       "  <thead>\n",
       "    <tr style=\"text-align: right;\">\n",
       "      <th></th>\n",
       "      <th>depth</th>\n",
       "      <th>leaf_sample</th>\n",
       "      <th>r2</th>\n",
       "      <th>rmse</th>\n",
       "    </tr>\n",
       "  </thead>\n",
       "  <tbody>\n",
       "    <tr>\n",
       "      <th>61</th>\n",
       "      <td>2</td>\n",
       "      <td>20</td>\n",
       "      <td>0.996803</td>\n",
       "      <td>0.013194</td>\n",
       "    </tr>\n",
       "    <tr>\n",
       "      <th>71</th>\n",
       "      <td>2</td>\n",
       "      <td>25</td>\n",
       "      <td>0.996780</td>\n",
       "      <td>0.013236</td>\n",
       "    </tr>\n",
       "    <tr>\n",
       "      <th>81</th>\n",
       "      <td>2</td>\n",
       "      <td>30</td>\n",
       "      <td>0.996782</td>\n",
       "      <td>0.013248</td>\n",
       "    </tr>\n",
       "    <tr>\n",
       "      <th>50</th>\n",
       "      <td>1</td>\n",
       "      <td>15</td>\n",
       "      <td>0.996770</td>\n",
       "      <td>0.013281</td>\n",
       "    </tr>\n",
       "    <tr>\n",
       "      <th>60</th>\n",
       "      <td>1</td>\n",
       "      <td>20</td>\n",
       "      <td>0.996759</td>\n",
       "      <td>0.013310</td>\n",
       "    </tr>\n",
       "    <tr>\n",
       "      <th>...</th>\n",
       "      <td>...</td>\n",
       "      <td>...</td>\n",
       "      <td>...</td>\n",
       "      <td>...</td>\n",
       "    </tr>\n",
       "    <tr>\n",
       "      <th>59</th>\n",
       "      <td>500</td>\n",
       "      <td>15</td>\n",
       "      <td>0.860860</td>\n",
       "      <td>0.082042</td>\n",
       "    </tr>\n",
       "    <tr>\n",
       "      <th>19</th>\n",
       "      <td>500</td>\n",
       "      <td>4</td>\n",
       "      <td>0.860860</td>\n",
       "      <td>0.082042</td>\n",
       "    </tr>\n",
       "    <tr>\n",
       "      <th>79</th>\n",
       "      <td>500</td>\n",
       "      <td>25</td>\n",
       "      <td>0.860860</td>\n",
       "      <td>0.082042</td>\n",
       "    </tr>\n",
       "    <tr>\n",
       "      <th>39</th>\n",
       "      <td>500</td>\n",
       "      <td>6</td>\n",
       "      <td>0.860860</td>\n",
       "      <td>0.082042</td>\n",
       "    </tr>\n",
       "    <tr>\n",
       "      <th>29</th>\n",
       "      <td>500</td>\n",
       "      <td>5</td>\n",
       "      <td>0.860860</td>\n",
       "      <td>0.082042</td>\n",
       "    </tr>\n",
       "  </tbody>\n",
       "</table>\n",
       "<p>90 rows × 4 columns</p>\n",
       "</div>"
      ],
      "text/plain": [
       "    depth  leaf_sample        r2      rmse\n",
       "61      2           20  0.996803  0.013194\n",
       "71      2           25  0.996780  0.013236\n",
       "81      2           30  0.996782  0.013248\n",
       "50      1           15  0.996770  0.013281\n",
       "60      1           20  0.996759  0.013310\n",
       "..    ...          ...       ...       ...\n",
       "59    500           15  0.860860  0.082042\n",
       "19    500            4  0.860860  0.082042\n",
       "79    500           25  0.860860  0.082042\n",
       "39    500            6  0.860860  0.082042\n",
       "29    500            5  0.860860  0.082042\n",
       "\n",
       "[90 rows x 4 columns]"
      ]
     },
     "execution_count": 76,
     "metadata": {},
     "output_type": "execute_result"
    }
   ],
   "source": [
    "df_params.sort_values('rmse', ascending=True)"
   ]
  },
  {
   "cell_type": "markdown",
   "metadata": {},
   "source": [
    "### 1.4.3 Random Forest"
   ]
  },
  {
   "cell_type": "code",
   "execution_count": 77,
   "metadata": {},
   "outputs": [],
   "source": [
    "from sklearn.ensemble import RandomForestRegressor\n"
   ]
  },
  {
   "cell_type": "code",
   "execution_count": 78,
   "metadata": {},
   "outputs": [],
   "source": [
    "rf_scores = []\n",
    "for n in range(10, 201, 10):\n",
    "\trf = RandomForestRegressor(n_estimators=n, random_state=1)\n",
    "\trf.fit(X_train, y_train)\n",
    "\ty_pred_val = rf.predict(X_val)\n",
    "\tr2 = r2_score(y_pred_val, y_val)\n",
    "\trmse = mean_squared_error(y_pred_val, y_val, squared=False)\n",
    "\n",
    "\n",
    "\trf_scores.append((n, r2, rmse))\n"
   ]
  },
  {
   "cell_type": "code",
   "execution_count": 79,
   "metadata": {},
   "outputs": [],
   "source": [
    "columns = ['n_estimator', 'r2', 'rmse']\n",
    "df_rf_scores = pd.DataFrame(rf_scores, columns=columns)\n"
   ]
  },
  {
   "cell_type": "code",
   "execution_count": 80,
   "metadata": {},
   "outputs": [
    {
     "data": {
      "text/html": [
       "<div>\n",
       "<style scoped>\n",
       "    .dataframe tbody tr th:only-of-type {\n",
       "        vertical-align: middle;\n",
       "    }\n",
       "\n",
       "    .dataframe tbody tr th {\n",
       "        vertical-align: top;\n",
       "    }\n",
       "\n",
       "    .dataframe thead th {\n",
       "        text-align: right;\n",
       "    }\n",
       "</style>\n",
       "<table border=\"1\" class=\"dataframe\">\n",
       "  <thead>\n",
       "    <tr style=\"text-align: right;\">\n",
       "      <th></th>\n",
       "      <th>n_estimator</th>\n",
       "      <th>r2</th>\n",
       "      <th>rmse</th>\n",
       "    </tr>\n",
       "  </thead>\n",
       "  <tbody>\n",
       "    <tr>\n",
       "      <th>0</th>\n",
       "      <td>10</td>\n",
       "      <td>0.997376</td>\n",
       "      <td>0.011964</td>\n",
       "    </tr>\n",
       "    <tr>\n",
       "      <th>3</th>\n",
       "      <td>40</td>\n",
       "      <td>0.997394</td>\n",
       "      <td>0.011929</td>\n",
       "    </tr>\n",
       "    <tr>\n",
       "      <th>1</th>\n",
       "      <td>20</td>\n",
       "      <td>0.997426</td>\n",
       "      <td>0.011854</td>\n",
       "    </tr>\n",
       "    <tr>\n",
       "      <th>4</th>\n",
       "      <td>50</td>\n",
       "      <td>0.997445</td>\n",
       "      <td>0.011809</td>\n",
       "    </tr>\n",
       "    <tr>\n",
       "      <th>2</th>\n",
       "      <td>30</td>\n",
       "      <td>0.997449</td>\n",
       "      <td>0.011804</td>\n",
       "    </tr>\n",
       "    <tr>\n",
       "      <th>5</th>\n",
       "      <td>60</td>\n",
       "      <td>0.997462</td>\n",
       "      <td>0.011767</td>\n",
       "    </tr>\n",
       "    <tr>\n",
       "      <th>6</th>\n",
       "      <td>70</td>\n",
       "      <td>0.997465</td>\n",
       "      <td>0.011759</td>\n",
       "    </tr>\n",
       "    <tr>\n",
       "      <th>7</th>\n",
       "      <td>80</td>\n",
       "      <td>0.997473</td>\n",
       "      <td>0.011743</td>\n",
       "    </tr>\n",
       "    <tr>\n",
       "      <th>10</th>\n",
       "      <td>110</td>\n",
       "      <td>0.997497</td>\n",
       "      <td>0.011685</td>\n",
       "    </tr>\n",
       "    <tr>\n",
       "      <th>8</th>\n",
       "      <td>90</td>\n",
       "      <td>0.997507</td>\n",
       "      <td>0.011662</td>\n",
       "    </tr>\n",
       "    <tr>\n",
       "      <th>12</th>\n",
       "      <td>130</td>\n",
       "      <td>0.997512</td>\n",
       "      <td>0.011649</td>\n",
       "    </tr>\n",
       "    <tr>\n",
       "      <th>13</th>\n",
       "      <td>140</td>\n",
       "      <td>0.997514</td>\n",
       "      <td>0.011644</td>\n",
       "    </tr>\n",
       "    <tr>\n",
       "      <th>9</th>\n",
       "      <td>100</td>\n",
       "      <td>0.997516</td>\n",
       "      <td>0.011640</td>\n",
       "    </tr>\n",
       "    <tr>\n",
       "      <th>11</th>\n",
       "      <td>120</td>\n",
       "      <td>0.997519</td>\n",
       "      <td>0.011633</td>\n",
       "    </tr>\n",
       "    <tr>\n",
       "      <th>14</th>\n",
       "      <td>150</td>\n",
       "      <td>0.997519</td>\n",
       "      <td>0.011632</td>\n",
       "    </tr>\n",
       "    <tr>\n",
       "      <th>15</th>\n",
       "      <td>160</td>\n",
       "      <td>0.997527</td>\n",
       "      <td>0.011615</td>\n",
       "    </tr>\n",
       "    <tr>\n",
       "      <th>16</th>\n",
       "      <td>170</td>\n",
       "      <td>0.997529</td>\n",
       "      <td>0.011611</td>\n",
       "    </tr>\n",
       "    <tr>\n",
       "      <th>17</th>\n",
       "      <td>180</td>\n",
       "      <td>0.997532</td>\n",
       "      <td>0.011603</td>\n",
       "    </tr>\n",
       "    <tr>\n",
       "      <th>18</th>\n",
       "      <td>190</td>\n",
       "      <td>0.997532</td>\n",
       "      <td>0.011603</td>\n",
       "    </tr>\n",
       "    <tr>\n",
       "      <th>19</th>\n",
       "      <td>200</td>\n",
       "      <td>0.997541</td>\n",
       "      <td>0.011582</td>\n",
       "    </tr>\n",
       "  </tbody>\n",
       "</table>\n",
       "</div>"
      ],
      "text/plain": [
       "    n_estimator        r2      rmse\n",
       "0            10  0.997376  0.011964\n",
       "3            40  0.997394  0.011929\n",
       "1            20  0.997426  0.011854\n",
       "4            50  0.997445  0.011809\n",
       "2            30  0.997449  0.011804\n",
       "5            60  0.997462  0.011767\n",
       "6            70  0.997465  0.011759\n",
       "7            80  0.997473  0.011743\n",
       "10          110  0.997497  0.011685\n",
       "8            90  0.997507  0.011662\n",
       "12          130  0.997512  0.011649\n",
       "13          140  0.997514  0.011644\n",
       "9           100  0.997516  0.011640\n",
       "11          120  0.997519  0.011633\n",
       "14          150  0.997519  0.011632\n",
       "15          160  0.997527  0.011615\n",
       "16          170  0.997529  0.011611\n",
       "17          180  0.997532  0.011603\n",
       "18          190  0.997532  0.011603\n",
       "19          200  0.997541  0.011582"
      ]
     },
     "execution_count": 80,
     "metadata": {},
     "output_type": "execute_result"
    }
   ],
   "source": [
    "df_rf_scores.sort_values('rmse', ascending=False)"
   ]
  },
  {
   "cell_type": "code",
   "execution_count": 81,
   "metadata": {},
   "outputs": [],
   "source": [
    "rf_scores = []\n",
    "for d in range(10,201, 10):\n",
    "\trf = RandomForestRegressor(n_estimators=10, max_depth=d, random_state=1)\n",
    "\trf.fit(X_train, y_train)\n",
    "\ty_pred_val = rf.predict(X_val)\n",
    "\tr2 = r2_score(y_pred_val, y_val)\n",
    "\trmse = mean_squared_error(y_pred_val, y_val, squared=False)\n",
    "\trf_scores.append((d, r2, rmse))"
   ]
  },
  {
   "cell_type": "code",
   "execution_count": 82,
   "metadata": {},
   "outputs": [
    {
     "data": {
      "text/html": [
       "<div>\n",
       "<style scoped>\n",
       "    .dataframe tbody tr th:only-of-type {\n",
       "        vertical-align: middle;\n",
       "    }\n",
       "\n",
       "    .dataframe tbody tr th {\n",
       "        vertical-align: top;\n",
       "    }\n",
       "\n",
       "    .dataframe thead th {\n",
       "        text-align: right;\n",
       "    }\n",
       "</style>\n",
       "<table border=\"1\" class=\"dataframe\">\n",
       "  <thead>\n",
       "    <tr style=\"text-align: right;\">\n",
       "      <th></th>\n",
       "      <th>max_depth</th>\n",
       "      <th>r2</th>\n",
       "      <th>rmse</th>\n",
       "    </tr>\n",
       "  </thead>\n",
       "  <tbody>\n",
       "    <tr>\n",
       "      <th>1</th>\n",
       "      <td>20</td>\n",
       "      <td>0.997272</td>\n",
       "      <td>0.012203</td>\n",
       "    </tr>\n",
       "    <tr>\n",
       "      <th>0</th>\n",
       "      <td>10</td>\n",
       "      <td>0.997303</td>\n",
       "      <td>0.012119</td>\n",
       "    </tr>\n",
       "    <tr>\n",
       "      <th>18</th>\n",
       "      <td>190</td>\n",
       "      <td>0.997376</td>\n",
       "      <td>0.011964</td>\n",
       "    </tr>\n",
       "    <tr>\n",
       "      <th>17</th>\n",
       "      <td>180</td>\n",
       "      <td>0.997376</td>\n",
       "      <td>0.011964</td>\n",
       "    </tr>\n",
       "    <tr>\n",
       "      <th>16</th>\n",
       "      <td>170</td>\n",
       "      <td>0.997376</td>\n",
       "      <td>0.011964</td>\n",
       "    </tr>\n",
       "    <tr>\n",
       "      <th>15</th>\n",
       "      <td>160</td>\n",
       "      <td>0.997376</td>\n",
       "      <td>0.011964</td>\n",
       "    </tr>\n",
       "    <tr>\n",
       "      <th>14</th>\n",
       "      <td>150</td>\n",
       "      <td>0.997376</td>\n",
       "      <td>0.011964</td>\n",
       "    </tr>\n",
       "    <tr>\n",
       "      <th>13</th>\n",
       "      <td>140</td>\n",
       "      <td>0.997376</td>\n",
       "      <td>0.011964</td>\n",
       "    </tr>\n",
       "    <tr>\n",
       "      <th>12</th>\n",
       "      <td>130</td>\n",
       "      <td>0.997376</td>\n",
       "      <td>0.011964</td>\n",
       "    </tr>\n",
       "    <tr>\n",
       "      <th>11</th>\n",
       "      <td>120</td>\n",
       "      <td>0.997376</td>\n",
       "      <td>0.011964</td>\n",
       "    </tr>\n",
       "    <tr>\n",
       "      <th>10</th>\n",
       "      <td>110</td>\n",
       "      <td>0.997376</td>\n",
       "      <td>0.011964</td>\n",
       "    </tr>\n",
       "    <tr>\n",
       "      <th>9</th>\n",
       "      <td>100</td>\n",
       "      <td>0.997376</td>\n",
       "      <td>0.011964</td>\n",
       "    </tr>\n",
       "    <tr>\n",
       "      <th>8</th>\n",
       "      <td>90</td>\n",
       "      <td>0.997376</td>\n",
       "      <td>0.011964</td>\n",
       "    </tr>\n",
       "    <tr>\n",
       "      <th>7</th>\n",
       "      <td>80</td>\n",
       "      <td>0.997376</td>\n",
       "      <td>0.011964</td>\n",
       "    </tr>\n",
       "    <tr>\n",
       "      <th>6</th>\n",
       "      <td>70</td>\n",
       "      <td>0.997376</td>\n",
       "      <td>0.011964</td>\n",
       "    </tr>\n",
       "    <tr>\n",
       "      <th>5</th>\n",
       "      <td>60</td>\n",
       "      <td>0.997376</td>\n",
       "      <td>0.011964</td>\n",
       "    </tr>\n",
       "    <tr>\n",
       "      <th>4</th>\n",
       "      <td>50</td>\n",
       "      <td>0.997376</td>\n",
       "      <td>0.011964</td>\n",
       "    </tr>\n",
       "    <tr>\n",
       "      <th>3</th>\n",
       "      <td>40</td>\n",
       "      <td>0.997376</td>\n",
       "      <td>0.011964</td>\n",
       "    </tr>\n",
       "    <tr>\n",
       "      <th>2</th>\n",
       "      <td>30</td>\n",
       "      <td>0.997376</td>\n",
       "      <td>0.011964</td>\n",
       "    </tr>\n",
       "    <tr>\n",
       "      <th>19</th>\n",
       "      <td>200</td>\n",
       "      <td>0.997376</td>\n",
       "      <td>0.011964</td>\n",
       "    </tr>\n",
       "  </tbody>\n",
       "</table>\n",
       "</div>"
      ],
      "text/plain": [
       "    max_depth        r2      rmse\n",
       "1          20  0.997272  0.012203\n",
       "0          10  0.997303  0.012119\n",
       "18        190  0.997376  0.011964\n",
       "17        180  0.997376  0.011964\n",
       "16        170  0.997376  0.011964\n",
       "15        160  0.997376  0.011964\n",
       "14        150  0.997376  0.011964\n",
       "13        140  0.997376  0.011964\n",
       "12        130  0.997376  0.011964\n",
       "11        120  0.997376  0.011964\n",
       "10        110  0.997376  0.011964\n",
       "9         100  0.997376  0.011964\n",
       "8          90  0.997376  0.011964\n",
       "7          80  0.997376  0.011964\n",
       "6          70  0.997376  0.011964\n",
       "5          60  0.997376  0.011964\n",
       "4          50  0.997376  0.011964\n",
       "3          40  0.997376  0.011964\n",
       "2          30  0.997376  0.011964\n",
       "19        200  0.997376  0.011964"
      ]
     },
     "execution_count": 82,
     "metadata": {},
     "output_type": "execute_result"
    }
   ],
   "source": [
    "col = ['max_depth', 'r2', 'rmse']\n",
    "df_rf_scores = pd.DataFrame(rf_scores, columns=col)\n",
    "df_rf_scores.sort_values('rmse', ascending=False)"
   ]
  },
  {
   "cell_type": "markdown",
   "metadata": {},
   "source": [
    "# 2. Summary: Selecting Best Model"
   ]
  },
  {
   "cell_type": "markdown",
   "metadata": {},
   "source": [
    "# 2.1 Linear Regression"
   ]
  },
  {
   "cell_type": "code",
   "execution_count": 83,
   "metadata": {},
   "outputs": [
    {
     "data": {
      "text/plain": [
       "(0.9966151928674323, 0.013520166661567024)"
      ]
     },
     "execution_count": 83,
     "metadata": {},
     "output_type": "execute_result"
    }
   ],
   "source": [
    "linear_model = LinearRegression()\n",
    "linear_model.fit(X_train, y_train)\n",
    "\n",
    "y_pred_val = linear_model.predict(X_val)\n",
    "\n",
    "r2_score(y_pred_val, y_val), mean_squared_error(y_pred_val, y_val, squared=False)"
   ]
  },
  {
   "cell_type": "markdown",
   "metadata": {},
   "source": [
    "# 2.2  Decision Tree"
   ]
  },
  {
   "cell_type": "code",
   "execution_count": 84,
   "metadata": {},
   "outputs": [
    {
     "name": "stdout",
     "output_type": "stream",
     "text": [
      "0.374898566785409 0.14414760770995744\n"
     ]
    }
   ],
   "source": [
    "dt = DecisionTreeRegressor(max_depth=1, min_samples_leaf=30)\n",
    "dt.fit(X_train, y_train)\n",
    "y_pred_val = dt.predict(X_val)\n",
    "r2 = r2_score(y_pred_val, y_val)\n",
    "rmse = mean_squared_error(y_pred_val, y_val, squared=False)\n",
    "print(r2, rmse)\n"
   ]
  },
  {
   "cell_type": "markdown",
   "metadata": {},
   "source": [
    "## 2.3 Random Forest"
   ]
  },
  {
   "cell_type": "code",
   "execution_count": 85,
   "metadata": {},
   "outputs": [
    {
     "name": "stdout",
     "output_type": "stream",
     "text": [
      "0.9972721717834009 0.012202785776094476\n"
     ]
    }
   ],
   "source": [
    "rf = RandomForestRegressor(n_estimators=10, max_depth=20, random_state=1)\n",
    "rf.fit(X_train, y_train)\n",
    "y_pred_val = rf.predict(X_val)\n",
    "r2 = r2_score(y_pred_val, y_val)\n",
    "rmse = mean_squared_error(y_pred_val, y_val, squared=False)\n",
    "print(r2, rmse)\n"
   ]
  },
  {
   "cell_type": "markdown",
   "metadata": {},
   "source": [
    "# 3. Saving Best Model"
   ]
  },
  {
   "cell_type": "code",
   "execution_count": 86,
   "metadata": {},
   "outputs": [],
   "source": [
    "import pickle"
   ]
  },
  {
   "cell_type": "code",
   "execution_count": 87,
   "metadata": {},
   "outputs": [],
   "source": [
    "output_file = 'model.bin'\n",
    "\n",
    "\n",
    "with open(output_file, 'wb') as f_out:\n",
    "    pickle.dump((dv, rf), f_out)"
   ]
  },
  {
   "cell_type": "code",
   "execution_count": 89,
   "metadata": {},
   "outputs": [],
   "source": [
    "test_dicts = df_test.to_dict(orient = 'records')\n",
    "dv = DictVectorizer(sparse = False)\n",
    "X_test = dv.fit_transform(test_dicts)\n"
   ]
  },
  {
   "cell_type": "code",
   "execution_count": 90,
   "metadata": {},
   "outputs": [
    {
     "data": {
      "text/plain": [
       "(0.9976353584663115, 0.00013538076828178633)"
      ]
     },
     "execution_count": 90,
     "metadata": {},
     "output_type": "execute_result"
    }
   ],
   "source": [
    "test_pred = rf.predict(X_test)\n",
    "r2_score(test_pred, y_test), mean_squared_error(test_pred, y_test)"
   ]
  },
  {
   "cell_type": "code",
   "execution_count": 96,
   "metadata": {},
   "outputs": [
    {
     "data": {
      "text/html": [
       "<div>\n",
       "<style scoped>\n",
       "    .dataframe tbody tr th:only-of-type {\n",
       "        vertical-align: middle;\n",
       "    }\n",
       "\n",
       "    .dataframe tbody tr th {\n",
       "        vertical-align: top;\n",
       "    }\n",
       "\n",
       "    .dataframe thead th {\n",
       "        text-align: right;\n",
       "    }\n",
       "</style>\n",
       "<table border=\"1\" class=\"dataframe\">\n",
       "  <thead>\n",
       "    <tr style=\"text-align: right;\">\n",
       "      <th></th>\n",
       "      <th>vehicle_class</th>\n",
       "      <th>engine_size</th>\n",
       "      <th>cylinders</th>\n",
       "      <th>fuel_type</th>\n",
       "      <th>fuel_consumption_city</th>\n",
       "      <th>fuel_consumption_hwy</th>\n",
       "      <th>fuel_consumption_comb_mpg</th>\n",
       "    </tr>\n",
       "  </thead>\n",
       "  <tbody>\n",
       "    <tr>\n",
       "      <th>0</th>\n",
       "      <td>suv_-_small</td>\n",
       "      <td>2.0</td>\n",
       "      <td>4</td>\n",
       "      <td>x</td>\n",
       "      <td>9.8</td>\n",
       "      <td>7.6</td>\n",
       "      <td>32</td>\n",
       "    </tr>\n",
       "    <tr>\n",
       "      <th>1</th>\n",
       "      <td>suv_-_small</td>\n",
       "      <td>1.4</td>\n",
       "      <td>4</td>\n",
       "      <td>x</td>\n",
       "      <td>9.9</td>\n",
       "      <td>8.1</td>\n",
       "      <td>31</td>\n",
       "    </tr>\n",
       "    <tr>\n",
       "      <th>2</th>\n",
       "      <td>subcompact</td>\n",
       "      <td>1.5</td>\n",
       "      <td>3</td>\n",
       "      <td>z</td>\n",
       "      <td>8.3</td>\n",
       "      <td>6.4</td>\n",
       "      <td>38</td>\n",
       "    </tr>\n",
       "    <tr>\n",
       "      <th>3</th>\n",
       "      <td>station_wagon_-_small</td>\n",
       "      <td>1.8</td>\n",
       "      <td>4</td>\n",
       "      <td>x</td>\n",
       "      <td>10.7</td>\n",
       "      <td>8.0</td>\n",
       "      <td>30</td>\n",
       "    </tr>\n",
       "    <tr>\n",
       "      <th>4</th>\n",
       "      <td>suv_-_small</td>\n",
       "      <td>2.0</td>\n",
       "      <td>4</td>\n",
       "      <td>x</td>\n",
       "      <td>12.5</td>\n",
       "      <td>9.6</td>\n",
       "      <td>25</td>\n",
       "    </tr>\n",
       "    <tr>\n",
       "      <th>...</th>\n",
       "      <td>...</td>\n",
       "      <td>...</td>\n",
       "      <td>...</td>\n",
       "      <td>...</td>\n",
       "      <td>...</td>\n",
       "      <td>...</td>\n",
       "      <td>...</td>\n",
       "    </tr>\n",
       "    <tr>\n",
       "      <th>1472</th>\n",
       "      <td>two-seater</td>\n",
       "      <td>1.4</td>\n",
       "      <td>4</td>\n",
       "      <td>x</td>\n",
       "      <td>9.3</td>\n",
       "      <td>6.5</td>\n",
       "      <td>35</td>\n",
       "    </tr>\n",
       "    <tr>\n",
       "      <th>1473</th>\n",
       "      <td>mid-size</td>\n",
       "      <td>2.0</td>\n",
       "      <td>4</td>\n",
       "      <td>z</td>\n",
       "      <td>9.2</td>\n",
       "      <td>6.6</td>\n",
       "      <td>35</td>\n",
       "    </tr>\n",
       "    <tr>\n",
       "      <th>1474</th>\n",
       "      <td>compact</td>\n",
       "      <td>2.0</td>\n",
       "      <td>4</td>\n",
       "      <td>z</td>\n",
       "      <td>8.6</td>\n",
       "      <td>6.4</td>\n",
       "      <td>37</td>\n",
       "    </tr>\n",
       "    <tr>\n",
       "      <th>1475</th>\n",
       "      <td>mid-size</td>\n",
       "      <td>1.5</td>\n",
       "      <td>4</td>\n",
       "      <td>x</td>\n",
       "      <td>4.6</td>\n",
       "      <td>5.3</td>\n",
       "      <td>58</td>\n",
       "    </tr>\n",
       "    <tr>\n",
       "      <th>1476</th>\n",
       "      <td>station_wagon_-_small</td>\n",
       "      <td>1.8</td>\n",
       "      <td>4</td>\n",
       "      <td>x</td>\n",
       "      <td>9.2</td>\n",
       "      <td>7.1</td>\n",
       "      <td>34</td>\n",
       "    </tr>\n",
       "  </tbody>\n",
       "</table>\n",
       "<p>1477 rows × 7 columns</p>\n",
       "</div>"
      ],
      "text/plain": [
       "              vehicle_class  engine_size  cylinders fuel_type  \\\n",
       "0               suv_-_small          2.0          4         x   \n",
       "1               suv_-_small          1.4          4         x   \n",
       "2                subcompact          1.5          3         z   \n",
       "3     station_wagon_-_small          1.8          4         x   \n",
       "4               suv_-_small          2.0          4         x   \n",
       "...                     ...          ...        ...       ...   \n",
       "1472             two-seater          1.4          4         x   \n",
       "1473               mid-size          2.0          4         z   \n",
       "1474                compact          2.0          4         z   \n",
       "1475               mid-size          1.5          4         x   \n",
       "1476  station_wagon_-_small          1.8          4         x   \n",
       "\n",
       "      fuel_consumption_city  fuel_consumption_hwy  fuel_consumption_comb_mpg  \n",
       "0                       9.8                   7.6                         32  \n",
       "1                       9.9                   8.1                         31  \n",
       "2                       8.3                   6.4                         38  \n",
       "3                      10.7                   8.0                         30  \n",
       "4                      12.5                   9.6                         25  \n",
       "...                     ...                   ...                        ...  \n",
       "1472                    9.3                   6.5                         35  \n",
       "1473                    9.2                   6.6                         35  \n",
       "1474                    8.6                   6.4                         37  \n",
       "1475                    4.6                   5.3                         58  \n",
       "1476                    9.2                   7.1                         34  \n",
       "\n",
       "[1477 rows x 7 columns]"
      ]
     },
     "execution_count": 96,
     "metadata": {},
     "output_type": "execute_result"
    }
   ],
   "source": [
    "df_test"
   ]
  },
  {
   "cell_type": "code",
   "execution_count": 98,
   "metadata": {},
   "outputs": [
    {
     "data": {
      "text/plain": [
       "173.79809351030946"
      ]
     },
     "execution_count": 98,
     "metadata": {},
     "output_type": "execute_result"
    }
   ],
   "source": [
    "np.exp(test_pred[2])"
   ]
  },
  {
   "cell_type": "code",
   "execution_count": 1,
   "metadata": {},
   "outputs": [],
   "source": [
    "import pickle\n",
    "input_file = 'model.bin'\n",
    "\n",
    "with open(input_file, 'rb') as f_in:\n",
    "    (dv, rf) = pickle.load(f_in)"
   ]
  },
  {
   "cell_type": "code",
   "execution_count": 2,
   "metadata": {},
   "outputs": [],
   "source": [
    " test = {\n",
    "\t\"vehicle_class\": \"subcompact\",\n",
    "\t\"engine_size\": 1.5,\n",
    "\t\"cylinders\": 3,\n",
    "\t\"fuel_type\": \"z\",\n",
    "\t\"fuel_consumption_city\":8.3,\n",
    "\t\"fuel_consumption_hwy\":6.4,\n",
    "\t\"fuel_consumption_comb_mpg\":38\n",
    "\n",
    "\n",
    "}"
   ]
  },
  {
   "cell_type": "code",
   "execution_count": 3,
   "metadata": {},
   "outputs": [],
   "source": [
    "x = dv.transform(test)"
   ]
  },
  {
   "cell_type": "code",
   "execution_count": 5,
   "metadata": {},
   "outputs": [
    {
     "data": {
      "text/plain": [
       "array([173.79809351])"
      ]
     },
     "execution_count": 5,
     "metadata": {},
     "output_type": "execute_result"
    }
   ],
   "source": [
    "y_pred = rf.predict(x)\n",
    "import numpy as np\n",
    "np.exp(y_pred)"
   ]
  },
  {
   "cell_type": "code",
   "execution_count": null,
   "metadata": {},
   "outputs": [],
   "source": []
  }
 ],
 "metadata": {
  "interpreter": {
   "hash": "8d9c7fe0a0d57fe7a6c5b26b16fcccaec54cdf9ae62f129ab2ed34b02ef6b941"
  },
  "kernelspec": {
   "display_name": "Python 3.9.2 64-bit ('week10-mMSYfQPA': venv)",
   "language": "python",
   "name": "python3"
  },
  "language_info": {
   "codemirror_mode": {
    "name": "ipython",
    "version": 3
   },
   "file_extension": ".py",
   "mimetype": "text/x-python",
   "name": "python",
   "nbconvert_exporter": "python",
   "pygments_lexer": "ipython3",
   "version": "3.9.2"
  },
  "orig_nbformat": 4
 },
 "nbformat": 4,
 "nbformat_minor": 2
}
